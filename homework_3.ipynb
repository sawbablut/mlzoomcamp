{
  "nbformat": 4,
  "nbformat_minor": 0,
  "metadata": {
    "colab": {
      "provenance": [],
      "authorship_tag": "ABX9TyN3B1PkpTeSnrAtKGzkeJc/",
      "include_colab_link": true
    },
    "kernelspec": {
      "name": "python3",
      "display_name": "Python 3"
    },
    "language_info": {
      "name": "python"
    }
  },
  "cells": [
    {
      "cell_type": "markdown",
      "metadata": {
        "id": "view-in-github",
        "colab_type": "text"
      },
      "source": [
        "<a href=\"https://colab.research.google.com/github/sawbablut/mlzoomcamp/blob/main/homework_3.ipynb\" target=\"_parent\"><img src=\"https://colab.research.google.com/assets/colab-badge.svg\" alt=\"Open In Colab\"/></a>"
      ]
    },
    {
      "cell_type": "code",
      "execution_count": 1,
      "metadata": {
        "id": "Nyfqnp98yWOT"
      },
      "outputs": [],
      "source": [
        "import numpy as np # linear algebra\n",
        "import pandas as pd # data processing"
      ]
    },
    {
      "cell_type": "code",
      "source": [
        "data = 'https://raw.githubusercontent.com/alexeygrigorev/mlbookcamp-code/master/chapter-02-car-price/data.csv'"
      ],
      "metadata": {
        "id": "oQM8vIfXysjB"
      },
      "execution_count": 2,
      "outputs": []
    },
    {
      "cell_type": "code",
      "source": [
        "!wget $data"
      ],
      "metadata": {
        "colab": {
          "base_uri": "https://localhost:8080/"
        },
        "id": "wiuVAJdty3kK",
        "outputId": "d53ae8db-5386-407a-eb47-969f71484431"
      },
      "execution_count": 3,
      "outputs": [
        {
          "output_type": "stream",
          "name": "stdout",
          "text": [
            "--2023-10-01 12:47:59--  https://raw.githubusercontent.com/alexeygrigorev/mlbookcamp-code/master/chapter-02-car-price/data.csv\n",
            "Resolving raw.githubusercontent.com (raw.githubusercontent.com)... 185.199.108.133, 185.199.111.133, 185.199.110.133, ...\n",
            "Connecting to raw.githubusercontent.com (raw.githubusercontent.com)|185.199.108.133|:443... connected.\n",
            "HTTP request sent, awaiting response... 200 OK\n",
            "Length: 1475504 (1.4M) [text/plain]\n",
            "Saving to: ‘data.csv’\n",
            "\n",
            "data.csv            100%[===================>]   1.41M  --.-KB/s    in 0.07s   \n",
            "\n",
            "2023-10-01 12:47:59 (19.0 MB/s) - ‘data.csv’ saved [1475504/1475504]\n",
            "\n"
          ]
        }
      ]
    },
    {
      "cell_type": "code",
      "source": [
        "df = pd.read_csv('data.csv')"
      ],
      "metadata": {
        "id": "sTLEs7uTy8-3"
      },
      "execution_count": 4,
      "outputs": []
    },
    {
      "cell_type": "code",
      "source": [
        "df.head().T"
      ],
      "metadata": {
        "colab": {
          "base_uri": "https://localhost:8080/",
          "height": 710
        },
        "id": "uf1ctMU7zDUv",
        "outputId": "03fe76e6-4f26-4503-f9f7-0310ff4c2ef0"
      },
      "execution_count": 5,
      "outputs": [
        {
          "output_type": "execute_result",
          "data": {
            "text/plain": [
              "                                                       0  \\\n",
              "Make                                                 BMW   \n",
              "Model                                         1 Series M   \n",
              "Year                                                2011   \n",
              "Engine Fuel Type             premium unleaded (required)   \n",
              "Engine HP                                          335.0   \n",
              "Engine Cylinders                                     6.0   \n",
              "Transmission Type                                 MANUAL   \n",
              "Driven_Wheels                           rear wheel drive   \n",
              "Number of Doors                                      2.0   \n",
              "Market Category    Factory Tuner,Luxury,High-Performance   \n",
              "Vehicle Size                                     Compact   \n",
              "Vehicle Style                                      Coupe   \n",
              "highway MPG                                           26   \n",
              "city mpg                                              19   \n",
              "Popularity                                          3916   \n",
              "MSRP                                               46135   \n",
              "\n",
              "                                             1                            2  \\\n",
              "Make                                       BMW                          BMW   \n",
              "Model                                 1 Series                     1 Series   \n",
              "Year                                      2011                         2011   \n",
              "Engine Fuel Type   premium unleaded (required)  premium unleaded (required)   \n",
              "Engine HP                                300.0                        300.0   \n",
              "Engine Cylinders                           6.0                          6.0   \n",
              "Transmission Type                       MANUAL                       MANUAL   \n",
              "Driven_Wheels                 rear wheel drive             rear wheel drive   \n",
              "Number of Doors                            2.0                          2.0   \n",
              "Market Category             Luxury,Performance      Luxury,High-Performance   \n",
              "Vehicle Size                           Compact                      Compact   \n",
              "Vehicle Style                      Convertible                        Coupe   \n",
              "highway MPG                                 28                           28   \n",
              "city mpg                                    19                           20   \n",
              "Popularity                                3916                         3916   \n",
              "MSRP                                     40650                        36350   \n",
              "\n",
              "                                             3                            4  \n",
              "Make                                       BMW                          BMW  \n",
              "Model                                 1 Series                     1 Series  \n",
              "Year                                      2011                         2011  \n",
              "Engine Fuel Type   premium unleaded (required)  premium unleaded (required)  \n",
              "Engine HP                                230.0                        230.0  \n",
              "Engine Cylinders                           6.0                          6.0  \n",
              "Transmission Type                       MANUAL                       MANUAL  \n",
              "Driven_Wheels                 rear wheel drive             rear wheel drive  \n",
              "Number of Doors                            2.0                          2.0  \n",
              "Market Category             Luxury,Performance                       Luxury  \n",
              "Vehicle Size                           Compact                      Compact  \n",
              "Vehicle Style                            Coupe                  Convertible  \n",
              "highway MPG                                 28                           28  \n",
              "city mpg                                    18                           18  \n",
              "Popularity                                3916                         3916  \n",
              "MSRP                                     29450                        34500  "
            ],
            "text/html": [
              "\n",
              "  <div id=\"df-98c9a94f-9aef-483a-a0cf-b16cc5bdc118\" class=\"colab-df-container\">\n",
              "    <div>\n",
              "<style scoped>\n",
              "    .dataframe tbody tr th:only-of-type {\n",
              "        vertical-align: middle;\n",
              "    }\n",
              "\n",
              "    .dataframe tbody tr th {\n",
              "        vertical-align: top;\n",
              "    }\n",
              "\n",
              "    .dataframe thead th {\n",
              "        text-align: right;\n",
              "    }\n",
              "</style>\n",
              "<table border=\"1\" class=\"dataframe\">\n",
              "  <thead>\n",
              "    <tr style=\"text-align: right;\">\n",
              "      <th></th>\n",
              "      <th>0</th>\n",
              "      <th>1</th>\n",
              "      <th>2</th>\n",
              "      <th>3</th>\n",
              "      <th>4</th>\n",
              "    </tr>\n",
              "  </thead>\n",
              "  <tbody>\n",
              "    <tr>\n",
              "      <th>Make</th>\n",
              "      <td>BMW</td>\n",
              "      <td>BMW</td>\n",
              "      <td>BMW</td>\n",
              "      <td>BMW</td>\n",
              "      <td>BMW</td>\n",
              "    </tr>\n",
              "    <tr>\n",
              "      <th>Model</th>\n",
              "      <td>1 Series M</td>\n",
              "      <td>1 Series</td>\n",
              "      <td>1 Series</td>\n",
              "      <td>1 Series</td>\n",
              "      <td>1 Series</td>\n",
              "    </tr>\n",
              "    <tr>\n",
              "      <th>Year</th>\n",
              "      <td>2011</td>\n",
              "      <td>2011</td>\n",
              "      <td>2011</td>\n",
              "      <td>2011</td>\n",
              "      <td>2011</td>\n",
              "    </tr>\n",
              "    <tr>\n",
              "      <th>Engine Fuel Type</th>\n",
              "      <td>premium unleaded (required)</td>\n",
              "      <td>premium unleaded (required)</td>\n",
              "      <td>premium unleaded (required)</td>\n",
              "      <td>premium unleaded (required)</td>\n",
              "      <td>premium unleaded (required)</td>\n",
              "    </tr>\n",
              "    <tr>\n",
              "      <th>Engine HP</th>\n",
              "      <td>335.0</td>\n",
              "      <td>300.0</td>\n",
              "      <td>300.0</td>\n",
              "      <td>230.0</td>\n",
              "      <td>230.0</td>\n",
              "    </tr>\n",
              "    <tr>\n",
              "      <th>Engine Cylinders</th>\n",
              "      <td>6.0</td>\n",
              "      <td>6.0</td>\n",
              "      <td>6.0</td>\n",
              "      <td>6.0</td>\n",
              "      <td>6.0</td>\n",
              "    </tr>\n",
              "    <tr>\n",
              "      <th>Transmission Type</th>\n",
              "      <td>MANUAL</td>\n",
              "      <td>MANUAL</td>\n",
              "      <td>MANUAL</td>\n",
              "      <td>MANUAL</td>\n",
              "      <td>MANUAL</td>\n",
              "    </tr>\n",
              "    <tr>\n",
              "      <th>Driven_Wheels</th>\n",
              "      <td>rear wheel drive</td>\n",
              "      <td>rear wheel drive</td>\n",
              "      <td>rear wheel drive</td>\n",
              "      <td>rear wheel drive</td>\n",
              "      <td>rear wheel drive</td>\n",
              "    </tr>\n",
              "    <tr>\n",
              "      <th>Number of Doors</th>\n",
              "      <td>2.0</td>\n",
              "      <td>2.0</td>\n",
              "      <td>2.0</td>\n",
              "      <td>2.0</td>\n",
              "      <td>2.0</td>\n",
              "    </tr>\n",
              "    <tr>\n",
              "      <th>Market Category</th>\n",
              "      <td>Factory Tuner,Luxury,High-Performance</td>\n",
              "      <td>Luxury,Performance</td>\n",
              "      <td>Luxury,High-Performance</td>\n",
              "      <td>Luxury,Performance</td>\n",
              "      <td>Luxury</td>\n",
              "    </tr>\n",
              "    <tr>\n",
              "      <th>Vehicle Size</th>\n",
              "      <td>Compact</td>\n",
              "      <td>Compact</td>\n",
              "      <td>Compact</td>\n",
              "      <td>Compact</td>\n",
              "      <td>Compact</td>\n",
              "    </tr>\n",
              "    <tr>\n",
              "      <th>Vehicle Style</th>\n",
              "      <td>Coupe</td>\n",
              "      <td>Convertible</td>\n",
              "      <td>Coupe</td>\n",
              "      <td>Coupe</td>\n",
              "      <td>Convertible</td>\n",
              "    </tr>\n",
              "    <tr>\n",
              "      <th>highway MPG</th>\n",
              "      <td>26</td>\n",
              "      <td>28</td>\n",
              "      <td>28</td>\n",
              "      <td>28</td>\n",
              "      <td>28</td>\n",
              "    </tr>\n",
              "    <tr>\n",
              "      <th>city mpg</th>\n",
              "      <td>19</td>\n",
              "      <td>19</td>\n",
              "      <td>20</td>\n",
              "      <td>18</td>\n",
              "      <td>18</td>\n",
              "    </tr>\n",
              "    <tr>\n",
              "      <th>Popularity</th>\n",
              "      <td>3916</td>\n",
              "      <td>3916</td>\n",
              "      <td>3916</td>\n",
              "      <td>3916</td>\n",
              "      <td>3916</td>\n",
              "    </tr>\n",
              "    <tr>\n",
              "      <th>MSRP</th>\n",
              "      <td>46135</td>\n",
              "      <td>40650</td>\n",
              "      <td>36350</td>\n",
              "      <td>29450</td>\n",
              "      <td>34500</td>\n",
              "    </tr>\n",
              "  </tbody>\n",
              "</table>\n",
              "</div>\n",
              "    <div class=\"colab-df-buttons\">\n",
              "\n",
              "  <div class=\"colab-df-container\">\n",
              "    <button class=\"colab-df-convert\" onclick=\"convertToInteractive('df-98c9a94f-9aef-483a-a0cf-b16cc5bdc118')\"\n",
              "            title=\"Convert this dataframe to an interactive table.\"\n",
              "            style=\"display:none;\">\n",
              "\n",
              "  <svg xmlns=\"http://www.w3.org/2000/svg\" height=\"24px\" viewBox=\"0 -960 960 960\">\n",
              "    <path d=\"M120-120v-720h720v720H120Zm60-500h600v-160H180v160Zm220 220h160v-160H400v160Zm0 220h160v-160H400v160ZM180-400h160v-160H180v160Zm440 0h160v-160H620v160ZM180-180h160v-160H180v160Zm440 0h160v-160H620v160Z\"/>\n",
              "  </svg>\n",
              "    </button>\n",
              "\n",
              "  <style>\n",
              "    .colab-df-container {\n",
              "      display:flex;\n",
              "      gap: 12px;\n",
              "    }\n",
              "\n",
              "    .colab-df-convert {\n",
              "      background-color: #E8F0FE;\n",
              "      border: none;\n",
              "      border-radius: 50%;\n",
              "      cursor: pointer;\n",
              "      display: none;\n",
              "      fill: #1967D2;\n",
              "      height: 32px;\n",
              "      padding: 0 0 0 0;\n",
              "      width: 32px;\n",
              "    }\n",
              "\n",
              "    .colab-df-convert:hover {\n",
              "      background-color: #E2EBFA;\n",
              "      box-shadow: 0px 1px 2px rgba(60, 64, 67, 0.3), 0px 1px 3px 1px rgba(60, 64, 67, 0.15);\n",
              "      fill: #174EA6;\n",
              "    }\n",
              "\n",
              "    .colab-df-buttons div {\n",
              "      margin-bottom: 4px;\n",
              "    }\n",
              "\n",
              "    [theme=dark] .colab-df-convert {\n",
              "      background-color: #3B4455;\n",
              "      fill: #D2E3FC;\n",
              "    }\n",
              "\n",
              "    [theme=dark] .colab-df-convert:hover {\n",
              "      background-color: #434B5C;\n",
              "      box-shadow: 0px 1px 3px 1px rgba(0, 0, 0, 0.15);\n",
              "      filter: drop-shadow(0px 1px 2px rgba(0, 0, 0, 0.3));\n",
              "      fill: #FFFFFF;\n",
              "    }\n",
              "  </style>\n",
              "\n",
              "    <script>\n",
              "      const buttonEl =\n",
              "        document.querySelector('#df-98c9a94f-9aef-483a-a0cf-b16cc5bdc118 button.colab-df-convert');\n",
              "      buttonEl.style.display =\n",
              "        google.colab.kernel.accessAllowed ? 'block' : 'none';\n",
              "\n",
              "      async function convertToInteractive(key) {\n",
              "        const element = document.querySelector('#df-98c9a94f-9aef-483a-a0cf-b16cc5bdc118');\n",
              "        const dataTable =\n",
              "          await google.colab.kernel.invokeFunction('convertToInteractive',\n",
              "                                                    [key], {});\n",
              "        if (!dataTable) return;\n",
              "\n",
              "        const docLinkHtml = 'Like what you see? Visit the ' +\n",
              "          '<a target=\"_blank\" href=https://colab.research.google.com/notebooks/data_table.ipynb>data table notebook</a>'\n",
              "          + ' to learn more about interactive tables.';\n",
              "        element.innerHTML = '';\n",
              "        dataTable['output_type'] = 'display_data';\n",
              "        await google.colab.output.renderOutput(dataTable, element);\n",
              "        const docLink = document.createElement('div');\n",
              "        docLink.innerHTML = docLinkHtml;\n",
              "        element.appendChild(docLink);\n",
              "      }\n",
              "    </script>\n",
              "  </div>\n",
              "\n",
              "\n",
              "<div id=\"df-84e54d7a-accc-451f-b281-d0017f72e866\">\n",
              "  <button class=\"colab-df-quickchart\" onclick=\"quickchart('df-84e54d7a-accc-451f-b281-d0017f72e866')\"\n",
              "            title=\"Suggest charts.\"\n",
              "            style=\"display:none;\">\n",
              "\n",
              "<svg xmlns=\"http://www.w3.org/2000/svg\" height=\"24px\"viewBox=\"0 0 24 24\"\n",
              "     width=\"24px\">\n",
              "    <g>\n",
              "        <path d=\"M19 3H5c-1.1 0-2 .9-2 2v14c0 1.1.9 2 2 2h14c1.1 0 2-.9 2-2V5c0-1.1-.9-2-2-2zM9 17H7v-7h2v7zm4 0h-2V7h2v10zm4 0h-2v-4h2v4z\"/>\n",
              "    </g>\n",
              "</svg>\n",
              "  </button>\n",
              "\n",
              "<style>\n",
              "  .colab-df-quickchart {\n",
              "      --bg-color: #E8F0FE;\n",
              "      --fill-color: #1967D2;\n",
              "      --hover-bg-color: #E2EBFA;\n",
              "      --hover-fill-color: #174EA6;\n",
              "      --disabled-fill-color: #AAA;\n",
              "      --disabled-bg-color: #DDD;\n",
              "  }\n",
              "\n",
              "  [theme=dark] .colab-df-quickchart {\n",
              "      --bg-color: #3B4455;\n",
              "      --fill-color: #D2E3FC;\n",
              "      --hover-bg-color: #434B5C;\n",
              "      --hover-fill-color: #FFFFFF;\n",
              "      --disabled-bg-color: #3B4455;\n",
              "      --disabled-fill-color: #666;\n",
              "  }\n",
              "\n",
              "  .colab-df-quickchart {\n",
              "    background-color: var(--bg-color);\n",
              "    border: none;\n",
              "    border-radius: 50%;\n",
              "    cursor: pointer;\n",
              "    display: none;\n",
              "    fill: var(--fill-color);\n",
              "    height: 32px;\n",
              "    padding: 0;\n",
              "    width: 32px;\n",
              "  }\n",
              "\n",
              "  .colab-df-quickchart:hover {\n",
              "    background-color: var(--hover-bg-color);\n",
              "    box-shadow: 0 1px 2px rgba(60, 64, 67, 0.3), 0 1px 3px 1px rgba(60, 64, 67, 0.15);\n",
              "    fill: var(--button-hover-fill-color);\n",
              "  }\n",
              "\n",
              "  .colab-df-quickchart-complete:disabled,\n",
              "  .colab-df-quickchart-complete:disabled:hover {\n",
              "    background-color: var(--disabled-bg-color);\n",
              "    fill: var(--disabled-fill-color);\n",
              "    box-shadow: none;\n",
              "  }\n",
              "\n",
              "  .colab-df-spinner {\n",
              "    border: 2px solid var(--fill-color);\n",
              "    border-color: transparent;\n",
              "    border-bottom-color: var(--fill-color);\n",
              "    animation:\n",
              "      spin 1s steps(1) infinite;\n",
              "  }\n",
              "\n",
              "  @keyframes spin {\n",
              "    0% {\n",
              "      border-color: transparent;\n",
              "      border-bottom-color: var(--fill-color);\n",
              "      border-left-color: var(--fill-color);\n",
              "    }\n",
              "    20% {\n",
              "      border-color: transparent;\n",
              "      border-left-color: var(--fill-color);\n",
              "      border-top-color: var(--fill-color);\n",
              "    }\n",
              "    30% {\n",
              "      border-color: transparent;\n",
              "      border-left-color: var(--fill-color);\n",
              "      border-top-color: var(--fill-color);\n",
              "      border-right-color: var(--fill-color);\n",
              "    }\n",
              "    40% {\n",
              "      border-color: transparent;\n",
              "      border-right-color: var(--fill-color);\n",
              "      border-top-color: var(--fill-color);\n",
              "    }\n",
              "    60% {\n",
              "      border-color: transparent;\n",
              "      border-right-color: var(--fill-color);\n",
              "    }\n",
              "    80% {\n",
              "      border-color: transparent;\n",
              "      border-right-color: var(--fill-color);\n",
              "      border-bottom-color: var(--fill-color);\n",
              "    }\n",
              "    90% {\n",
              "      border-color: transparent;\n",
              "      border-bottom-color: var(--fill-color);\n",
              "    }\n",
              "  }\n",
              "</style>\n",
              "\n",
              "  <script>\n",
              "    async function quickchart(key) {\n",
              "      const quickchartButtonEl =\n",
              "        document.querySelector('#' + key + ' button');\n",
              "      quickchartButtonEl.disabled = true;  // To prevent multiple clicks.\n",
              "      quickchartButtonEl.classList.add('colab-df-spinner');\n",
              "      try {\n",
              "        const charts = await google.colab.kernel.invokeFunction(\n",
              "            'suggestCharts', [key], {});\n",
              "      } catch (error) {\n",
              "        console.error('Error during call to suggestCharts:', error);\n",
              "      }\n",
              "      quickchartButtonEl.classList.remove('colab-df-spinner');\n",
              "      quickchartButtonEl.classList.add('colab-df-quickchart-complete');\n",
              "    }\n",
              "    (() => {\n",
              "      let quickchartButtonEl =\n",
              "        document.querySelector('#df-84e54d7a-accc-451f-b281-d0017f72e866 button');\n",
              "      quickchartButtonEl.style.display =\n",
              "        google.colab.kernel.accessAllowed ? 'block' : 'none';\n",
              "    })();\n",
              "  </script>\n",
              "</div>\n",
              "    </div>\n",
              "  </div>\n"
            ]
          },
          "metadata": {},
          "execution_count": 5
        }
      ]
    },
    {
      "cell_type": "code",
      "source": [
        "df.columns"
      ],
      "metadata": {
        "colab": {
          "base_uri": "https://localhost:8080/"
        },
        "id": "WSzLt-Kd0Wlq",
        "outputId": "9265b85d-1712-49cf-c450-d16e6158ebd4"
      },
      "execution_count": 6,
      "outputs": [
        {
          "output_type": "execute_result",
          "data": {
            "text/plain": [
              "Index(['Make', 'Model', 'Year', 'Engine Fuel Type', 'Engine HP',\n",
              "       'Engine Cylinders', 'Transmission Type', 'Driven_Wheels',\n",
              "       'Number of Doors', 'Market Category', 'Vehicle Size', 'Vehicle Style',\n",
              "       'highway MPG', 'city mpg', 'Popularity', 'MSRP'],\n",
              "      dtype='object')"
            ]
          },
          "metadata": {},
          "execution_count": 6
        }
      ]
    },
    {
      "cell_type": "code",
      "source": [
        "columns = [\n",
        "    'Make',\n",
        "    'Model',\n",
        "    'Year',\n",
        "    'Engine HP',\n",
        "    'Engine Cylinders',\n",
        "    'Transmission Type',\n",
        "    'Vehicle Style',\n",
        "    'highway MPG',\n",
        "    'city mpg',\n",
        "    'MSRP'\n",
        "]\n",
        "df = df[columns]"
      ],
      "metadata": {
        "id": "3dCoE_NGzSc2"
      },
      "execution_count": 7,
      "outputs": []
    },
    {
      "cell_type": "code",
      "source": [
        "df.columns"
      ],
      "metadata": {
        "colab": {
          "base_uri": "https://localhost:8080/"
        },
        "id": "OW5qqB3K1Djm",
        "outputId": "73d5be1f-f2ab-4260-a351-f296ae229046"
      },
      "execution_count": 8,
      "outputs": [
        {
          "output_type": "execute_result",
          "data": {
            "text/plain": [
              "Index(['Make', 'Model', 'Year', 'Engine HP', 'Engine Cylinders',\n",
              "       'Transmission Type', 'Vehicle Style', 'highway MPG', 'city mpg',\n",
              "       'MSRP'],\n",
              "      dtype='object')"
            ]
          },
          "metadata": {},
          "execution_count": 8
        }
      ]
    },
    {
      "cell_type": "markdown",
      "source": [
        "**Data preparation**"
      ],
      "metadata": {
        "id": "FVRaC7Gu2r2R"
      }
    },
    {
      "cell_type": "code",
      "source": [
        "df.columns = df.columns.str.lower().str.replace(' ', '_')"
      ],
      "metadata": {
        "id": "b50-xybC21NY"
      },
      "execution_count": 9,
      "outputs": []
    },
    {
      "cell_type": "code",
      "source": [
        "df.columns"
      ],
      "metadata": {
        "colab": {
          "base_uri": "https://localhost:8080/"
        },
        "id": "llOxL6zZ3KH0",
        "outputId": "ec44d794-c0d1-4f18-c5a9-56546968c0df"
      },
      "execution_count": 10,
      "outputs": [
        {
          "output_type": "execute_result",
          "data": {
            "text/plain": [
              "Index(['make', 'model', 'year', 'engine_hp', 'engine_cylinders',\n",
              "       'transmission_type', 'vehicle_style', 'highway_mpg', 'city_mpg',\n",
              "       'msrp'],\n",
              "      dtype='object')"
            ]
          },
          "metadata": {},
          "execution_count": 10
        }
      ]
    },
    {
      "cell_type": "code",
      "source": [
        "df.dtypes"
      ],
      "metadata": {
        "colab": {
          "base_uri": "https://localhost:8080/"
        },
        "id": "sf5H4C4x3S6A",
        "outputId": "25c43869-c7a8-498e-9dde-311ff1ce586b"
      },
      "execution_count": 11,
      "outputs": [
        {
          "output_type": "execute_result",
          "data": {
            "text/plain": [
              "make                  object\n",
              "model                 object\n",
              "year                   int64\n",
              "engine_hp            float64\n",
              "engine_cylinders     float64\n",
              "transmission_type     object\n",
              "vehicle_style         object\n",
              "highway_mpg            int64\n",
              "city_mpg               int64\n",
              "msrp                   int64\n",
              "dtype: object"
            ]
          },
          "metadata": {},
          "execution_count": 11
        }
      ]
    },
    {
      "cell_type": "code",
      "source": [
        "df.isnull().sum()"
      ],
      "metadata": {
        "colab": {
          "base_uri": "https://localhost:8080/"
        },
        "id": "MpIpR1Af7Lef",
        "outputId": "79247ba2-bd25-4416-be15-efcbc5b9a90c"
      },
      "execution_count": 12,
      "outputs": [
        {
          "output_type": "execute_result",
          "data": {
            "text/plain": [
              "make                  0\n",
              "model                 0\n",
              "year                  0\n",
              "engine_hp            69\n",
              "engine_cylinders     30\n",
              "transmission_type     0\n",
              "vehicle_style         0\n",
              "highway_mpg           0\n",
              "city_mpg              0\n",
              "msrp                  0\n",
              "dtype: int64"
            ]
          },
          "metadata": {},
          "execution_count": 12
        }
      ]
    },
    {
      "cell_type": "code",
      "source": [
        "df = df.fillna(0)"
      ],
      "metadata": {
        "id": "JQXAt3fo9qit"
      },
      "execution_count": 13,
      "outputs": []
    },
    {
      "cell_type": "code",
      "source": [
        "df.isnull().sum()"
      ],
      "metadata": {
        "colab": {
          "base_uri": "https://localhost:8080/"
        },
        "id": "7tiHBvOWV-Qp",
        "outputId": "6ba5d809-ef3f-4000-bf96-e6e2ecf75d4f"
      },
      "execution_count": 14,
      "outputs": [
        {
          "output_type": "execute_result",
          "data": {
            "text/plain": [
              "make                 0\n",
              "model                0\n",
              "year                 0\n",
              "engine_hp            0\n",
              "engine_cylinders     0\n",
              "transmission_type    0\n",
              "vehicle_style        0\n",
              "highway_mpg          0\n",
              "city_mpg             0\n",
              "msrp                 0\n",
              "dtype: int64"
            ]
          },
          "metadata": {},
          "execution_count": 14
        }
      ]
    },
    {
      "cell_type": "code",
      "source": [
        "df = df.rename(columns={'msrp': 'price'})"
      ],
      "metadata": {
        "id": "_JectuNi95yt"
      },
      "execution_count": 15,
      "outputs": []
    },
    {
      "cell_type": "code",
      "source": [
        "df.columns"
      ],
      "metadata": {
        "colab": {
          "base_uri": "https://localhost:8080/"
        },
        "id": "Bg6kKj7FWEDX",
        "outputId": "8c227ae1-adc1-4920-ca3e-16826ef440c2"
      },
      "execution_count": 16,
      "outputs": [
        {
          "output_type": "execute_result",
          "data": {
            "text/plain": [
              "Index(['make', 'model', 'year', 'engine_hp', 'engine_cylinders',\n",
              "       'transmission_type', 'vehicle_style', 'highway_mpg', 'city_mpg',\n",
              "       'price'],\n",
              "      dtype='object')"
            ]
          },
          "metadata": {},
          "execution_count": 16
        }
      ]
    },
    {
      "cell_type": "markdown",
      "source": [
        "### Question 1\n",
        "What is the most frequent observation (mode) for the column `transmission_type`?"
      ],
      "metadata": {
        "id": "qumDF7VI9O67"
      }
    },
    {
      "cell_type": "code",
      "source": [
        "df['transmission_type'].mode()"
      ],
      "metadata": {
        "colab": {
          "base_uri": "https://localhost:8080/"
        },
        "id": "7vJfeyQU9l3y",
        "outputId": "3d7c66fb-7da8-4f2a-9cff-6074ca675a9d"
      },
      "execution_count": 17,
      "outputs": [
        {
          "output_type": "execute_result",
          "data": {
            "text/plain": [
              "0    AUTOMATIC\n",
              "Name: transmission_type, dtype: object"
            ]
          },
          "metadata": {},
          "execution_count": 17
        }
      ]
    },
    {
      "cell_type": "markdown",
      "source": [
        "Answer: `AUTOMATIC`"
      ],
      "metadata": {
        "id": "DvHaVi6l_uf8"
      }
    },
    {
      "cell_type": "markdown",
      "source": [
        "### Question 2\n",
        "What are the two features that have the biggest correlation in this dataset?"
      ],
      "metadata": {
        "id": "IX9AStKkF5DC"
      }
    },
    {
      "cell_type": "code",
      "source": [
        "df.dtypes"
      ],
      "metadata": {
        "colab": {
          "base_uri": "https://localhost:8080/"
        },
        "id": "iWTG7pvPWX9Z",
        "outputId": "c67a3acc-334f-4dcb-baa1-09bc6843a994"
      },
      "execution_count": 18,
      "outputs": [
        {
          "output_type": "execute_result",
          "data": {
            "text/plain": [
              "make                  object\n",
              "model                 object\n",
              "year                   int64\n",
              "engine_hp            float64\n",
              "engine_cylinders     float64\n",
              "transmission_type     object\n",
              "vehicle_style         object\n",
              "highway_mpg            int64\n",
              "city_mpg               int64\n",
              "price                  int64\n",
              "dtype: object"
            ]
          },
          "metadata": {},
          "execution_count": 18
        }
      ]
    },
    {
      "cell_type": "code",
      "source": [
        "numerical = ['year', 'engine_hp', 'engine_cylinders', 'highway_mpg', 'city_mpg']"
      ],
      "metadata": {
        "id": "sMRFrpfy_j6H"
      },
      "execution_count": 19,
      "outputs": []
    },
    {
      "cell_type": "code",
      "source": [
        "df[numerical].corr()"
      ],
      "metadata": {
        "colab": {
          "base_uri": "https://localhost:8080/",
          "height": 226
        },
        "id": "pZlDwPc7_j7b",
        "outputId": "7f1ae78a-b3c1-4b53-f9e7-20aa197af992"
      },
      "execution_count": 20,
      "outputs": [
        {
          "output_type": "execute_result",
          "data": {
            "text/plain": [
              "                      year  engine_hp  engine_cylinders  highway_mpg  city_mpg\n",
              "year              1.000000   0.338714         -0.040708     0.258240  0.198171\n",
              "engine_hp         0.338714   1.000000          0.774851    -0.415707 -0.424918\n",
              "engine_cylinders -0.040708   0.774851          1.000000    -0.614541 -0.587306\n",
              "highway_mpg       0.258240  -0.415707         -0.614541     1.000000  0.886829\n",
              "city_mpg          0.198171  -0.424918         -0.587306     0.886829  1.000000"
            ],
            "text/html": [
              "\n",
              "  <div id=\"df-a33f8d5c-858f-4e64-96e8-052ef94835e6\" class=\"colab-df-container\">\n",
              "    <div>\n",
              "<style scoped>\n",
              "    .dataframe tbody tr th:only-of-type {\n",
              "        vertical-align: middle;\n",
              "    }\n",
              "\n",
              "    .dataframe tbody tr th {\n",
              "        vertical-align: top;\n",
              "    }\n",
              "\n",
              "    .dataframe thead th {\n",
              "        text-align: right;\n",
              "    }\n",
              "</style>\n",
              "<table border=\"1\" class=\"dataframe\">\n",
              "  <thead>\n",
              "    <tr style=\"text-align: right;\">\n",
              "      <th></th>\n",
              "      <th>year</th>\n",
              "      <th>engine_hp</th>\n",
              "      <th>engine_cylinders</th>\n",
              "      <th>highway_mpg</th>\n",
              "      <th>city_mpg</th>\n",
              "    </tr>\n",
              "  </thead>\n",
              "  <tbody>\n",
              "    <tr>\n",
              "      <th>year</th>\n",
              "      <td>1.000000</td>\n",
              "      <td>0.338714</td>\n",
              "      <td>-0.040708</td>\n",
              "      <td>0.258240</td>\n",
              "      <td>0.198171</td>\n",
              "    </tr>\n",
              "    <tr>\n",
              "      <th>engine_hp</th>\n",
              "      <td>0.338714</td>\n",
              "      <td>1.000000</td>\n",
              "      <td>0.774851</td>\n",
              "      <td>-0.415707</td>\n",
              "      <td>-0.424918</td>\n",
              "    </tr>\n",
              "    <tr>\n",
              "      <th>engine_cylinders</th>\n",
              "      <td>-0.040708</td>\n",
              "      <td>0.774851</td>\n",
              "      <td>1.000000</td>\n",
              "      <td>-0.614541</td>\n",
              "      <td>-0.587306</td>\n",
              "    </tr>\n",
              "    <tr>\n",
              "      <th>highway_mpg</th>\n",
              "      <td>0.258240</td>\n",
              "      <td>-0.415707</td>\n",
              "      <td>-0.614541</td>\n",
              "      <td>1.000000</td>\n",
              "      <td>0.886829</td>\n",
              "    </tr>\n",
              "    <tr>\n",
              "      <th>city_mpg</th>\n",
              "      <td>0.198171</td>\n",
              "      <td>-0.424918</td>\n",
              "      <td>-0.587306</td>\n",
              "      <td>0.886829</td>\n",
              "      <td>1.000000</td>\n",
              "    </tr>\n",
              "  </tbody>\n",
              "</table>\n",
              "</div>\n",
              "    <div class=\"colab-df-buttons\">\n",
              "\n",
              "  <div class=\"colab-df-container\">\n",
              "    <button class=\"colab-df-convert\" onclick=\"convertToInteractive('df-a33f8d5c-858f-4e64-96e8-052ef94835e6')\"\n",
              "            title=\"Convert this dataframe to an interactive table.\"\n",
              "            style=\"display:none;\">\n",
              "\n",
              "  <svg xmlns=\"http://www.w3.org/2000/svg\" height=\"24px\" viewBox=\"0 -960 960 960\">\n",
              "    <path d=\"M120-120v-720h720v720H120Zm60-500h600v-160H180v160Zm220 220h160v-160H400v160Zm0 220h160v-160H400v160ZM180-400h160v-160H180v160Zm440 0h160v-160H620v160ZM180-180h160v-160H180v160Zm440 0h160v-160H620v160Z\"/>\n",
              "  </svg>\n",
              "    </button>\n",
              "\n",
              "  <style>\n",
              "    .colab-df-container {\n",
              "      display:flex;\n",
              "      gap: 12px;\n",
              "    }\n",
              "\n",
              "    .colab-df-convert {\n",
              "      background-color: #E8F0FE;\n",
              "      border: none;\n",
              "      border-radius: 50%;\n",
              "      cursor: pointer;\n",
              "      display: none;\n",
              "      fill: #1967D2;\n",
              "      height: 32px;\n",
              "      padding: 0 0 0 0;\n",
              "      width: 32px;\n",
              "    }\n",
              "\n",
              "    .colab-df-convert:hover {\n",
              "      background-color: #E2EBFA;\n",
              "      box-shadow: 0px 1px 2px rgba(60, 64, 67, 0.3), 0px 1px 3px 1px rgba(60, 64, 67, 0.15);\n",
              "      fill: #174EA6;\n",
              "    }\n",
              "\n",
              "    .colab-df-buttons div {\n",
              "      margin-bottom: 4px;\n",
              "    }\n",
              "\n",
              "    [theme=dark] .colab-df-convert {\n",
              "      background-color: #3B4455;\n",
              "      fill: #D2E3FC;\n",
              "    }\n",
              "\n",
              "    [theme=dark] .colab-df-convert:hover {\n",
              "      background-color: #434B5C;\n",
              "      box-shadow: 0px 1px 3px 1px rgba(0, 0, 0, 0.15);\n",
              "      filter: drop-shadow(0px 1px 2px rgba(0, 0, 0, 0.3));\n",
              "      fill: #FFFFFF;\n",
              "    }\n",
              "  </style>\n",
              "\n",
              "    <script>\n",
              "      const buttonEl =\n",
              "        document.querySelector('#df-a33f8d5c-858f-4e64-96e8-052ef94835e6 button.colab-df-convert');\n",
              "      buttonEl.style.display =\n",
              "        google.colab.kernel.accessAllowed ? 'block' : 'none';\n",
              "\n",
              "      async function convertToInteractive(key) {\n",
              "        const element = document.querySelector('#df-a33f8d5c-858f-4e64-96e8-052ef94835e6');\n",
              "        const dataTable =\n",
              "          await google.colab.kernel.invokeFunction('convertToInteractive',\n",
              "                                                    [key], {});\n",
              "        if (!dataTable) return;\n",
              "\n",
              "        const docLinkHtml = 'Like what you see? Visit the ' +\n",
              "          '<a target=\"_blank\" href=https://colab.research.google.com/notebooks/data_table.ipynb>data table notebook</a>'\n",
              "          + ' to learn more about interactive tables.';\n",
              "        element.innerHTML = '';\n",
              "        dataTable['output_type'] = 'display_data';\n",
              "        await google.colab.output.renderOutput(dataTable, element);\n",
              "        const docLink = document.createElement('div');\n",
              "        docLink.innerHTML = docLinkHtml;\n",
              "        element.appendChild(docLink);\n",
              "      }\n",
              "    </script>\n",
              "  </div>\n",
              "\n",
              "\n",
              "<div id=\"df-b0c218b9-9c88-4a94-8d1e-5621e42619f1\">\n",
              "  <button class=\"colab-df-quickchart\" onclick=\"quickchart('df-b0c218b9-9c88-4a94-8d1e-5621e42619f1')\"\n",
              "            title=\"Suggest charts.\"\n",
              "            style=\"display:none;\">\n",
              "\n",
              "<svg xmlns=\"http://www.w3.org/2000/svg\" height=\"24px\"viewBox=\"0 0 24 24\"\n",
              "     width=\"24px\">\n",
              "    <g>\n",
              "        <path d=\"M19 3H5c-1.1 0-2 .9-2 2v14c0 1.1.9 2 2 2h14c1.1 0 2-.9 2-2V5c0-1.1-.9-2-2-2zM9 17H7v-7h2v7zm4 0h-2V7h2v10zm4 0h-2v-4h2v4z\"/>\n",
              "    </g>\n",
              "</svg>\n",
              "  </button>\n",
              "\n",
              "<style>\n",
              "  .colab-df-quickchart {\n",
              "      --bg-color: #E8F0FE;\n",
              "      --fill-color: #1967D2;\n",
              "      --hover-bg-color: #E2EBFA;\n",
              "      --hover-fill-color: #174EA6;\n",
              "      --disabled-fill-color: #AAA;\n",
              "      --disabled-bg-color: #DDD;\n",
              "  }\n",
              "\n",
              "  [theme=dark] .colab-df-quickchart {\n",
              "      --bg-color: #3B4455;\n",
              "      --fill-color: #D2E3FC;\n",
              "      --hover-bg-color: #434B5C;\n",
              "      --hover-fill-color: #FFFFFF;\n",
              "      --disabled-bg-color: #3B4455;\n",
              "      --disabled-fill-color: #666;\n",
              "  }\n",
              "\n",
              "  .colab-df-quickchart {\n",
              "    background-color: var(--bg-color);\n",
              "    border: none;\n",
              "    border-radius: 50%;\n",
              "    cursor: pointer;\n",
              "    display: none;\n",
              "    fill: var(--fill-color);\n",
              "    height: 32px;\n",
              "    padding: 0;\n",
              "    width: 32px;\n",
              "  }\n",
              "\n",
              "  .colab-df-quickchart:hover {\n",
              "    background-color: var(--hover-bg-color);\n",
              "    box-shadow: 0 1px 2px rgba(60, 64, 67, 0.3), 0 1px 3px 1px rgba(60, 64, 67, 0.15);\n",
              "    fill: var(--button-hover-fill-color);\n",
              "  }\n",
              "\n",
              "  .colab-df-quickchart-complete:disabled,\n",
              "  .colab-df-quickchart-complete:disabled:hover {\n",
              "    background-color: var(--disabled-bg-color);\n",
              "    fill: var(--disabled-fill-color);\n",
              "    box-shadow: none;\n",
              "  }\n",
              "\n",
              "  .colab-df-spinner {\n",
              "    border: 2px solid var(--fill-color);\n",
              "    border-color: transparent;\n",
              "    border-bottom-color: var(--fill-color);\n",
              "    animation:\n",
              "      spin 1s steps(1) infinite;\n",
              "  }\n",
              "\n",
              "  @keyframes spin {\n",
              "    0% {\n",
              "      border-color: transparent;\n",
              "      border-bottom-color: var(--fill-color);\n",
              "      border-left-color: var(--fill-color);\n",
              "    }\n",
              "    20% {\n",
              "      border-color: transparent;\n",
              "      border-left-color: var(--fill-color);\n",
              "      border-top-color: var(--fill-color);\n",
              "    }\n",
              "    30% {\n",
              "      border-color: transparent;\n",
              "      border-left-color: var(--fill-color);\n",
              "      border-top-color: var(--fill-color);\n",
              "      border-right-color: var(--fill-color);\n",
              "    }\n",
              "    40% {\n",
              "      border-color: transparent;\n",
              "      border-right-color: var(--fill-color);\n",
              "      border-top-color: var(--fill-color);\n",
              "    }\n",
              "    60% {\n",
              "      border-color: transparent;\n",
              "      border-right-color: var(--fill-color);\n",
              "    }\n",
              "    80% {\n",
              "      border-color: transparent;\n",
              "      border-right-color: var(--fill-color);\n",
              "      border-bottom-color: var(--fill-color);\n",
              "    }\n",
              "    90% {\n",
              "      border-color: transparent;\n",
              "      border-bottom-color: var(--fill-color);\n",
              "    }\n",
              "  }\n",
              "</style>\n",
              "\n",
              "  <script>\n",
              "    async function quickchart(key) {\n",
              "      const quickchartButtonEl =\n",
              "        document.querySelector('#' + key + ' button');\n",
              "      quickchartButtonEl.disabled = true;  // To prevent multiple clicks.\n",
              "      quickchartButtonEl.classList.add('colab-df-spinner');\n",
              "      try {\n",
              "        const charts = await google.colab.kernel.invokeFunction(\n",
              "            'suggestCharts', [key], {});\n",
              "      } catch (error) {\n",
              "        console.error('Error during call to suggestCharts:', error);\n",
              "      }\n",
              "      quickchartButtonEl.classList.remove('colab-df-spinner');\n",
              "      quickchartButtonEl.classList.add('colab-df-quickchart-complete');\n",
              "    }\n",
              "    (() => {\n",
              "      let quickchartButtonEl =\n",
              "        document.querySelector('#df-b0c218b9-9c88-4a94-8d1e-5621e42619f1 button');\n",
              "      quickchartButtonEl.style.display =\n",
              "        google.colab.kernel.accessAllowed ? 'block' : 'none';\n",
              "    })();\n",
              "  </script>\n",
              "</div>\n",
              "    </div>\n",
              "  </div>\n"
            ]
          },
          "metadata": {},
          "execution_count": 20
        }
      ]
    },
    {
      "cell_type": "markdown",
      "source": [
        "Answer: `highway_mpg` and `city_mpg`"
      ],
      "metadata": {
        "id": "jlYwwN_cGIuh"
      }
    },
    {
      "cell_type": "code",
      "source": [
        "df['above_average'] = (df['price'] > df['price'].mean()).astype(int)"
      ],
      "metadata": {
        "id": "wytzPiROGHmO"
      },
      "execution_count": 21,
      "outputs": []
    },
    {
      "cell_type": "code",
      "source": [
        "df['above_average'].head()"
      ],
      "metadata": {
        "colab": {
          "base_uri": "https://localhost:8080/"
        },
        "id": "Jn5Hi-YrHHYM",
        "outputId": "10a23b7d-36f3-4e50-c1ac-b36a71ab879d"
      },
      "execution_count": 22,
      "outputs": [
        {
          "output_type": "execute_result",
          "data": {
            "text/plain": [
              "0    1\n",
              "1    1\n",
              "2    0\n",
              "3    0\n",
              "4    0\n",
              "Name: above_average, dtype: int64"
            ]
          },
          "metadata": {},
          "execution_count": 22
        }
      ]
    },
    {
      "cell_type": "code",
      "source": [
        "from sklearn.model_selection import train_test_split"
      ],
      "metadata": {
        "id": "A4ViouqgHhWX"
      },
      "execution_count": 23,
      "outputs": []
    },
    {
      "cell_type": "code",
      "source": [
        "df_full_train, df_test = train_test_split(df, test_size=0.2, random_state=42)"
      ],
      "metadata": {
        "id": "ZYhSJ5sBHws1"
      },
      "execution_count": 24,
      "outputs": []
    },
    {
      "cell_type": "code",
      "source": [
        "df_train, df_val = train_test_split(df_full_train, test_size=0.25, random_state=42)"
      ],
      "metadata": {
        "id": "RRHfsMC7IYNq"
      },
      "execution_count": 25,
      "outputs": []
    },
    {
      "cell_type": "code",
      "source": [
        "len(df_train), len(df_val), len(df_test)"
      ],
      "metadata": {
        "colab": {
          "base_uri": "https://localhost:8080/"
        },
        "id": "3dt7CAxUIxEd",
        "outputId": "b95f58f1-8260-435f-d9b1-70021e8b7328"
      },
      "execution_count": 26,
      "outputs": [
        {
          "output_type": "execute_result",
          "data": {
            "text/plain": [
              "(7148, 2383, 2383)"
            ]
          },
          "metadata": {},
          "execution_count": 26
        }
      ]
    },
    {
      "cell_type": "code",
      "source": [
        "y_train = df_train['above_average']\n",
        "y_val = df_val['above_average']\n",
        "y_test = df_test['above_average']"
      ],
      "metadata": {
        "id": "UpUxNx4_Jk8P"
      },
      "execution_count": 27,
      "outputs": []
    },
    {
      "cell_type": "code",
      "source": [
        "train_price = df_train['price']\n",
        "val_price = df_val['price']\n",
        "test_price = df_test['price']"
      ],
      "metadata": {
        "id": "b1yrh4OoRreb"
      },
      "execution_count": 28,
      "outputs": []
    },
    {
      "cell_type": "code",
      "source": [
        "del df_train['above_average']\n",
        "del df_val['above_average']\n",
        "del df_test['above_average']\n",
        "del df_train['price']\n",
        "del df_val['price']\n",
        "del df_test['price']"
      ],
      "metadata": {
        "id": "unZtUbiUI3by"
      },
      "execution_count": 29,
      "outputs": []
    },
    {
      "cell_type": "markdown",
      "source": [
        "### Question 3\n",
        "Which of these variables has the lowest mutual information score?"
      ],
      "metadata": {
        "id": "8o_znO3iJ6RH"
      }
    },
    {
      "cell_type": "code",
      "source": [
        "from sklearn.metrics import mutual_info_score"
      ],
      "metadata": {
        "id": "5jZGu8WTJ_ha"
      },
      "execution_count": 30,
      "outputs": []
    },
    {
      "cell_type": "code",
      "source": [
        "def mutual_info_above_average_score(series):\n",
        "  return mutual_info_score(series, y_train)"
      ],
      "metadata": {
        "id": "cPkxtW1FKm-a"
      },
      "execution_count": 31,
      "outputs": []
    },
    {
      "cell_type": "code",
      "source": [
        "categorical = list(df.dtypes[df.dtypes == 'object'].index)"
      ],
      "metadata": {
        "id": "MoZcwXaaXCkO"
      },
      "execution_count": 32,
      "outputs": []
    },
    {
      "cell_type": "code",
      "source": [
        "mi = df_train[categorical].apply(mutual_info_above_average_score)"
      ],
      "metadata": {
        "id": "aPXjBKuXK0wt"
      },
      "execution_count": 33,
      "outputs": []
    },
    {
      "cell_type": "code",
      "source": [
        "mi.sort_values(ascending=False)"
      ],
      "metadata": {
        "colab": {
          "base_uri": "https://localhost:8080/"
        },
        "id": "y2sWfgTNLPdI",
        "outputId": "f42e9766-5c39-4c67-c13e-977c7c257b8e"
      },
      "execution_count": 34,
      "outputs": [
        {
          "output_type": "execute_result",
          "data": {
            "text/plain": [
              "model                0.462344\n",
              "make                 0.239769\n",
              "vehicle_style        0.084143\n",
              "transmission_type    0.020958\n",
              "dtype: float64"
            ]
          },
          "metadata": {},
          "execution_count": 34
        }
      ]
    },
    {
      "cell_type": "markdown",
      "source": [
        "Answer: `transmission_type`"
      ],
      "metadata": {
        "id": "LdsbrFx0KBbB"
      }
    },
    {
      "cell_type": "markdown",
      "source": [
        "### Qutestion 4\n"
      ],
      "metadata": {
        "id": "qOthZq5iL4bs"
      }
    },
    {
      "cell_type": "code",
      "source": [
        "from sklearn.feature_extraction import DictVectorizer"
      ],
      "metadata": {
        "id": "v1ntcMmlLaQX"
      },
      "execution_count": 35,
      "outputs": []
    },
    {
      "cell_type": "code",
      "source": [
        "train_dicts = df_train[categorical + numerical].to_dict(orient='records')"
      ],
      "metadata": {
        "id": "GzxQJc3GLmIC"
      },
      "execution_count": 36,
      "outputs": []
    },
    {
      "cell_type": "code",
      "source": [
        "train_dicts[0]"
      ],
      "metadata": {
        "colab": {
          "base_uri": "https://localhost:8080/"
        },
        "id": "ffAE8VGfPQIr",
        "outputId": "11d23e8d-13cb-40ee-a961-cddce61212fa"
      },
      "execution_count": 37,
      "outputs": [
        {
          "output_type": "execute_result",
          "data": {
            "text/plain": [
              "{'make': 'Mitsubishi',\n",
              " 'model': 'Endeavor',\n",
              " 'transmission_type': 'AUTOMATIC',\n",
              " 'vehicle_style': '4dr SUV',\n",
              " 'year': 2011,\n",
              " 'engine_hp': 225.0,\n",
              " 'engine_cylinders': 6.0,\n",
              " 'highway_mpg': 19,\n",
              " 'city_mpg': 15}"
            ]
          },
          "metadata": {},
          "execution_count": 37
        }
      ]
    },
    {
      "cell_type": "code",
      "source": [
        "dv = DictVectorizer(sparse=False)"
      ],
      "metadata": {
        "id": "6qNl6yZ6NANb"
      },
      "execution_count": 38,
      "outputs": []
    },
    {
      "cell_type": "code",
      "source": [
        "X_train = dv.fit_transform(train_dicts)"
      ],
      "metadata": {
        "id": "UJIBJ44MNIbv"
      },
      "execution_count": 39,
      "outputs": []
    },
    {
      "cell_type": "code",
      "source": [
        "X_train.shape"
      ],
      "metadata": {
        "colab": {
          "base_uri": "https://localhost:8080/"
        },
        "id": "HGtj39Z9O4_o",
        "outputId": "dd3aa54f-4e7a-4a93-e4c3-8d9998ca26de"
      },
      "execution_count": 40,
      "outputs": [
        {
          "output_type": "execute_result",
          "data": {
            "text/plain": [
              "(7148, 943)"
            ]
          },
          "metadata": {},
          "execution_count": 40
        }
      ]
    },
    {
      "cell_type": "code",
      "source": [
        "from sklearn.linear_model import LogisticRegression"
      ],
      "metadata": {
        "id": "6FkFXYbCNdna"
      },
      "execution_count": 41,
      "outputs": []
    },
    {
      "cell_type": "code",
      "source": [
        "model = LogisticRegression(solver='liblinear', C=10, max_iter=1000, random_state=42)"
      ],
      "metadata": {
        "id": "ydv0ZEeWNj8C"
      },
      "execution_count": 42,
      "outputs": []
    },
    {
      "cell_type": "code",
      "source": [
        "model.fit(X_train, y_train)"
      ],
      "metadata": {
        "colab": {
          "base_uri": "https://localhost:8080/",
          "height": 95
        },
        "id": "RRNAg3spNzDa",
        "outputId": "186f5399-470f-4521-ebd0-d8cf00dca4af"
      },
      "execution_count": 43,
      "outputs": [
        {
          "output_type": "execute_result",
          "data": {
            "text/plain": [
              "LogisticRegression(C=10, max_iter=1000, random_state=42, solver='liblinear')"
            ],
            "text/html": [
              "<style>#sk-container-id-1 {color: black;background-color: white;}#sk-container-id-1 pre{padding: 0;}#sk-container-id-1 div.sk-toggleable {background-color: white;}#sk-container-id-1 label.sk-toggleable__label {cursor: pointer;display: block;width: 100%;margin-bottom: 0;padding: 0.3em;box-sizing: border-box;text-align: center;}#sk-container-id-1 label.sk-toggleable__label-arrow:before {content: \"▸\";float: left;margin-right: 0.25em;color: #696969;}#sk-container-id-1 label.sk-toggleable__label-arrow:hover:before {color: black;}#sk-container-id-1 div.sk-estimator:hover label.sk-toggleable__label-arrow:before {color: black;}#sk-container-id-1 div.sk-toggleable__content {max-height: 0;max-width: 0;overflow: hidden;text-align: left;background-color: #f0f8ff;}#sk-container-id-1 div.sk-toggleable__content pre {margin: 0.2em;color: black;border-radius: 0.25em;background-color: #f0f8ff;}#sk-container-id-1 input.sk-toggleable__control:checked~div.sk-toggleable__content {max-height: 200px;max-width: 100%;overflow: auto;}#sk-container-id-1 input.sk-toggleable__control:checked~label.sk-toggleable__label-arrow:before {content: \"▾\";}#sk-container-id-1 div.sk-estimator input.sk-toggleable__control:checked~label.sk-toggleable__label {background-color: #d4ebff;}#sk-container-id-1 div.sk-label input.sk-toggleable__control:checked~label.sk-toggleable__label {background-color: #d4ebff;}#sk-container-id-1 input.sk-hidden--visually {border: 0;clip: rect(1px 1px 1px 1px);clip: rect(1px, 1px, 1px, 1px);height: 1px;margin: -1px;overflow: hidden;padding: 0;position: absolute;width: 1px;}#sk-container-id-1 div.sk-estimator {font-family: monospace;background-color: #f0f8ff;border: 1px dotted black;border-radius: 0.25em;box-sizing: border-box;margin-bottom: 0.5em;}#sk-container-id-1 div.sk-estimator:hover {background-color: #d4ebff;}#sk-container-id-1 div.sk-parallel-item::after {content: \"\";width: 100%;border-bottom: 1px solid gray;flex-grow: 1;}#sk-container-id-1 div.sk-label:hover label.sk-toggleable__label {background-color: #d4ebff;}#sk-container-id-1 div.sk-serial::before {content: \"\";position: absolute;border-left: 1px solid gray;box-sizing: border-box;top: 0;bottom: 0;left: 50%;z-index: 0;}#sk-container-id-1 div.sk-serial {display: flex;flex-direction: column;align-items: center;background-color: white;padding-right: 0.2em;padding-left: 0.2em;position: relative;}#sk-container-id-1 div.sk-item {position: relative;z-index: 1;}#sk-container-id-1 div.sk-parallel {display: flex;align-items: stretch;justify-content: center;background-color: white;position: relative;}#sk-container-id-1 div.sk-item::before, #sk-container-id-1 div.sk-parallel-item::before {content: \"\";position: absolute;border-left: 1px solid gray;box-sizing: border-box;top: 0;bottom: 0;left: 50%;z-index: -1;}#sk-container-id-1 div.sk-parallel-item {display: flex;flex-direction: column;z-index: 1;position: relative;background-color: white;}#sk-container-id-1 div.sk-parallel-item:first-child::after {align-self: flex-end;width: 50%;}#sk-container-id-1 div.sk-parallel-item:last-child::after {align-self: flex-start;width: 50%;}#sk-container-id-1 div.sk-parallel-item:only-child::after {width: 0;}#sk-container-id-1 div.sk-dashed-wrapped {border: 1px dashed gray;margin: 0 0.4em 0.5em 0.4em;box-sizing: border-box;padding-bottom: 0.4em;background-color: white;}#sk-container-id-1 div.sk-label label {font-family: monospace;font-weight: bold;display: inline-block;line-height: 1.2em;}#sk-container-id-1 div.sk-label-container {text-align: center;}#sk-container-id-1 div.sk-container {/* jupyter's `normalize.less` sets `[hidden] { display: none; }` but bootstrap.min.css set `[hidden] { display: none !important; }` so we also need the `!important` here to be able to override the default hidden behavior on the sphinx rendered scikit-learn.org. See: https://github.com/scikit-learn/scikit-learn/issues/21755 */display: inline-block !important;position: relative;}#sk-container-id-1 div.sk-text-repr-fallback {display: none;}</style><div id=\"sk-container-id-1\" class=\"sk-top-container\"><div class=\"sk-text-repr-fallback\"><pre>LogisticRegression(C=10, max_iter=1000, random_state=42, solver=&#x27;liblinear&#x27;)</pre><b>In a Jupyter environment, please rerun this cell to show the HTML representation or trust the notebook. <br />On GitHub, the HTML representation is unable to render, please try loading this page with nbviewer.org.</b></div><div class=\"sk-container\" hidden><div class=\"sk-item\"><div class=\"sk-estimator sk-toggleable\"><input class=\"sk-toggleable__control sk-hidden--visually\" id=\"sk-estimator-id-1\" type=\"checkbox\" checked><label for=\"sk-estimator-id-1\" class=\"sk-toggleable__label sk-toggleable__label-arrow\">LogisticRegression</label><div class=\"sk-toggleable__content\"><pre>LogisticRegression(C=10, max_iter=1000, random_state=42, solver=&#x27;liblinear&#x27;)</pre></div></div></div></div></div>"
            ]
          },
          "metadata": {},
          "execution_count": 43
        }
      ]
    },
    {
      "cell_type": "code",
      "source": [
        "val_dict = df_val[categorical + numerical].to_dict(orient='records')"
      ],
      "metadata": {
        "id": "LJulIydsOgPA"
      },
      "execution_count": 44,
      "outputs": []
    },
    {
      "cell_type": "code",
      "source": [
        "val_dict[0]"
      ],
      "metadata": {
        "colab": {
          "base_uri": "https://localhost:8080/"
        },
        "id": "f5Ih1KlYPLKp",
        "outputId": "d05912cd-dabe-4a63-b1ac-e053be685896"
      },
      "execution_count": 45,
      "outputs": [
        {
          "output_type": "execute_result",
          "data": {
            "text/plain": [
              "{'make': 'Volkswagen',\n",
              " 'model': 'Beetle',\n",
              " 'transmission_type': 'MANUAL',\n",
              " 'vehicle_style': '2dr Hatchback',\n",
              " 'year': 2015,\n",
              " 'engine_hp': 210.0,\n",
              " 'engine_cylinders': 4.0,\n",
              " 'highway_mpg': 31,\n",
              " 'city_mpg': 23}"
            ]
          },
          "metadata": {},
          "execution_count": 45
        }
      ]
    },
    {
      "cell_type": "code",
      "source": [
        "X_val = dv.transform(val_dict)"
      ],
      "metadata": {
        "id": "HZ0PBIBZOmlT"
      },
      "execution_count": 46,
      "outputs": []
    },
    {
      "cell_type": "code",
      "source": [
        "X_val.shape"
      ],
      "metadata": {
        "colab": {
          "base_uri": "https://localhost:8080/"
        },
        "id": "ST2BlVeOQWVd",
        "outputId": "7111c1cb-27f0-4de9-8072-3e484d2f3575"
      },
      "execution_count": 47,
      "outputs": [
        {
          "output_type": "execute_result",
          "data": {
            "text/plain": [
              "(2383, 943)"
            ]
          },
          "metadata": {},
          "execution_count": 47
        }
      ]
    },
    {
      "cell_type": "code",
      "source": [
        "X_val[0]"
      ],
      "metadata": {
        "colab": {
          "base_uri": "https://localhost:8080/"
        },
        "id": "bAsPOx95PYsI",
        "outputId": "8d81d1a4-6e73-42fe-9104-a35c44b91ede"
      },
      "execution_count": 48,
      "outputs": [
        {
          "output_type": "execute_result",
          "data": {
            "text/plain": [
              "array([2.300e+01, 4.000e+00, 2.100e+02, 3.100e+01, 0.000e+00, 0.000e+00,\n",
              "       0.000e+00, 0.000e+00, 0.000e+00, 0.000e+00, 0.000e+00, 0.000e+00,\n",
              "       0.000e+00, 0.000e+00, 0.000e+00, 0.000e+00, 0.000e+00, 0.000e+00,\n",
              "       0.000e+00, 0.000e+00, 0.000e+00, 0.000e+00, 0.000e+00, 0.000e+00,\n",
              "       0.000e+00, 0.000e+00, 0.000e+00, 0.000e+00, 0.000e+00, 0.000e+00,\n",
              "       0.000e+00, 0.000e+00, 0.000e+00, 0.000e+00, 0.000e+00, 0.000e+00,\n",
              "       0.000e+00, 0.000e+00, 0.000e+00, 0.000e+00, 0.000e+00, 0.000e+00,\n",
              "       0.000e+00, 0.000e+00, 0.000e+00, 0.000e+00, 0.000e+00, 0.000e+00,\n",
              "       0.000e+00, 0.000e+00, 1.000e+00, 0.000e+00, 0.000e+00, 0.000e+00,\n",
              "       0.000e+00, 0.000e+00, 0.000e+00, 0.000e+00, 0.000e+00, 0.000e+00,\n",
              "       0.000e+00, 0.000e+00, 0.000e+00, 0.000e+00, 0.000e+00, 0.000e+00,\n",
              "       0.000e+00, 0.000e+00, 0.000e+00, 0.000e+00, 0.000e+00, 0.000e+00,\n",
              "       0.000e+00, 0.000e+00, 0.000e+00, 0.000e+00, 0.000e+00, 0.000e+00,\n",
              "       0.000e+00, 0.000e+00, 0.000e+00, 0.000e+00, 0.000e+00, 0.000e+00,\n",
              "       0.000e+00, 0.000e+00, 0.000e+00, 0.000e+00, 0.000e+00, 0.000e+00,\n",
              "       0.000e+00, 0.000e+00, 0.000e+00, 0.000e+00, 0.000e+00, 0.000e+00,\n",
              "       0.000e+00, 0.000e+00, 0.000e+00, 0.000e+00, 0.000e+00, 0.000e+00,\n",
              "       0.000e+00, 0.000e+00, 0.000e+00, 0.000e+00, 0.000e+00, 0.000e+00,\n",
              "       0.000e+00, 0.000e+00, 0.000e+00, 0.000e+00, 0.000e+00, 0.000e+00,\n",
              "       0.000e+00, 0.000e+00, 0.000e+00, 0.000e+00, 0.000e+00, 0.000e+00,\n",
              "       0.000e+00, 0.000e+00, 0.000e+00, 0.000e+00, 0.000e+00, 0.000e+00,\n",
              "       0.000e+00, 0.000e+00, 0.000e+00, 0.000e+00, 0.000e+00, 0.000e+00,\n",
              "       0.000e+00, 0.000e+00, 0.000e+00, 0.000e+00, 0.000e+00, 0.000e+00,\n",
              "       0.000e+00, 0.000e+00, 0.000e+00, 0.000e+00, 0.000e+00, 0.000e+00,\n",
              "       0.000e+00, 0.000e+00, 0.000e+00, 0.000e+00, 0.000e+00, 0.000e+00,\n",
              "       0.000e+00, 0.000e+00, 0.000e+00, 0.000e+00, 0.000e+00, 0.000e+00,\n",
              "       0.000e+00, 0.000e+00, 0.000e+00, 0.000e+00, 0.000e+00, 0.000e+00,\n",
              "       0.000e+00, 0.000e+00, 0.000e+00, 0.000e+00, 0.000e+00, 0.000e+00,\n",
              "       0.000e+00, 0.000e+00, 0.000e+00, 0.000e+00, 0.000e+00, 0.000e+00,\n",
              "       0.000e+00, 0.000e+00, 0.000e+00, 0.000e+00, 0.000e+00, 0.000e+00,\n",
              "       0.000e+00, 0.000e+00, 0.000e+00, 0.000e+00, 1.000e+00, 0.000e+00,\n",
              "       0.000e+00, 0.000e+00, 0.000e+00, 0.000e+00, 0.000e+00, 0.000e+00,\n",
              "       0.000e+00, 0.000e+00, 0.000e+00, 0.000e+00, 0.000e+00, 0.000e+00,\n",
              "       0.000e+00, 0.000e+00, 0.000e+00, 0.000e+00, 0.000e+00, 0.000e+00,\n",
              "       0.000e+00, 0.000e+00, 0.000e+00, 0.000e+00, 0.000e+00, 0.000e+00,\n",
              "       0.000e+00, 0.000e+00, 0.000e+00, 0.000e+00, 0.000e+00, 0.000e+00,\n",
              "       0.000e+00, 0.000e+00, 0.000e+00, 0.000e+00, 0.000e+00, 0.000e+00,\n",
              "       0.000e+00, 0.000e+00, 0.000e+00, 0.000e+00, 0.000e+00, 0.000e+00,\n",
              "       0.000e+00, 0.000e+00, 0.000e+00, 0.000e+00, 0.000e+00, 0.000e+00,\n",
              "       0.000e+00, 0.000e+00, 0.000e+00, 0.000e+00, 0.000e+00, 0.000e+00,\n",
              "       0.000e+00, 0.000e+00, 0.000e+00, 0.000e+00, 0.000e+00, 0.000e+00,\n",
              "       0.000e+00, 0.000e+00, 0.000e+00, 0.000e+00, 0.000e+00, 0.000e+00,\n",
              "       0.000e+00, 0.000e+00, 0.000e+00, 0.000e+00, 0.000e+00, 0.000e+00,\n",
              "       0.000e+00, 0.000e+00, 0.000e+00, 0.000e+00, 0.000e+00, 0.000e+00,\n",
              "       0.000e+00, 0.000e+00, 0.000e+00, 0.000e+00, 0.000e+00, 0.000e+00,\n",
              "       0.000e+00, 0.000e+00, 0.000e+00, 0.000e+00, 0.000e+00, 0.000e+00,\n",
              "       0.000e+00, 0.000e+00, 0.000e+00, 0.000e+00, 0.000e+00, 0.000e+00,\n",
              "       0.000e+00, 0.000e+00, 0.000e+00, 0.000e+00, 0.000e+00, 0.000e+00,\n",
              "       0.000e+00, 0.000e+00, 0.000e+00, 0.000e+00, 0.000e+00, 0.000e+00,\n",
              "       0.000e+00, 0.000e+00, 0.000e+00, 0.000e+00, 0.000e+00, 0.000e+00,\n",
              "       0.000e+00, 0.000e+00, 0.000e+00, 0.000e+00, 0.000e+00, 0.000e+00,\n",
              "       0.000e+00, 0.000e+00, 0.000e+00, 0.000e+00, 0.000e+00, 0.000e+00,\n",
              "       0.000e+00, 0.000e+00, 0.000e+00, 0.000e+00, 0.000e+00, 0.000e+00,\n",
              "       0.000e+00, 0.000e+00, 0.000e+00, 0.000e+00, 0.000e+00, 0.000e+00,\n",
              "       0.000e+00, 0.000e+00, 0.000e+00, 0.000e+00, 0.000e+00, 0.000e+00,\n",
              "       0.000e+00, 0.000e+00, 0.000e+00, 0.000e+00, 0.000e+00, 0.000e+00,\n",
              "       0.000e+00, 0.000e+00, 0.000e+00, 0.000e+00, 0.000e+00, 0.000e+00,\n",
              "       0.000e+00, 0.000e+00, 0.000e+00, 0.000e+00, 0.000e+00, 0.000e+00,\n",
              "       0.000e+00, 0.000e+00, 0.000e+00, 0.000e+00, 0.000e+00, 0.000e+00,\n",
              "       0.000e+00, 0.000e+00, 0.000e+00, 0.000e+00, 0.000e+00, 0.000e+00,\n",
              "       0.000e+00, 0.000e+00, 0.000e+00, 0.000e+00, 0.000e+00, 0.000e+00,\n",
              "       0.000e+00, 0.000e+00, 0.000e+00, 0.000e+00, 0.000e+00, 0.000e+00,\n",
              "       0.000e+00, 0.000e+00, 0.000e+00, 0.000e+00, 0.000e+00, 0.000e+00,\n",
              "       0.000e+00, 0.000e+00, 0.000e+00, 0.000e+00, 0.000e+00, 0.000e+00,\n",
              "       0.000e+00, 0.000e+00, 0.000e+00, 0.000e+00, 0.000e+00, 0.000e+00,\n",
              "       0.000e+00, 0.000e+00, 0.000e+00, 0.000e+00, 0.000e+00, 0.000e+00,\n",
              "       0.000e+00, 0.000e+00, 0.000e+00, 0.000e+00, 0.000e+00, 0.000e+00,\n",
              "       0.000e+00, 0.000e+00, 0.000e+00, 0.000e+00, 0.000e+00, 0.000e+00,\n",
              "       0.000e+00, 0.000e+00, 0.000e+00, 0.000e+00, 0.000e+00, 0.000e+00,\n",
              "       0.000e+00, 0.000e+00, 0.000e+00, 0.000e+00, 0.000e+00, 0.000e+00,\n",
              "       0.000e+00, 0.000e+00, 0.000e+00, 0.000e+00, 0.000e+00, 0.000e+00,\n",
              "       0.000e+00, 0.000e+00, 0.000e+00, 0.000e+00, 0.000e+00, 0.000e+00,\n",
              "       0.000e+00, 0.000e+00, 0.000e+00, 0.000e+00, 0.000e+00, 0.000e+00,\n",
              "       0.000e+00, 0.000e+00, 0.000e+00, 0.000e+00, 0.000e+00, 0.000e+00,\n",
              "       0.000e+00, 0.000e+00, 0.000e+00, 0.000e+00, 0.000e+00, 0.000e+00,\n",
              "       0.000e+00, 0.000e+00, 0.000e+00, 0.000e+00, 0.000e+00, 0.000e+00,\n",
              "       0.000e+00, 0.000e+00, 0.000e+00, 0.000e+00, 0.000e+00, 0.000e+00,\n",
              "       0.000e+00, 0.000e+00, 0.000e+00, 0.000e+00, 0.000e+00, 0.000e+00,\n",
              "       0.000e+00, 0.000e+00, 0.000e+00, 0.000e+00, 0.000e+00, 0.000e+00,\n",
              "       0.000e+00, 0.000e+00, 0.000e+00, 0.000e+00, 0.000e+00, 0.000e+00,\n",
              "       0.000e+00, 0.000e+00, 0.000e+00, 0.000e+00, 0.000e+00, 0.000e+00,\n",
              "       0.000e+00, 0.000e+00, 0.000e+00, 0.000e+00, 0.000e+00, 0.000e+00,\n",
              "       0.000e+00, 0.000e+00, 0.000e+00, 0.000e+00, 0.000e+00, 0.000e+00,\n",
              "       0.000e+00, 0.000e+00, 0.000e+00, 0.000e+00, 0.000e+00, 0.000e+00,\n",
              "       0.000e+00, 0.000e+00, 0.000e+00, 0.000e+00, 0.000e+00, 0.000e+00,\n",
              "       0.000e+00, 0.000e+00, 0.000e+00, 0.000e+00, 0.000e+00, 0.000e+00,\n",
              "       0.000e+00, 0.000e+00, 0.000e+00, 0.000e+00, 0.000e+00, 0.000e+00,\n",
              "       0.000e+00, 0.000e+00, 0.000e+00, 0.000e+00, 0.000e+00, 0.000e+00,\n",
              "       0.000e+00, 0.000e+00, 0.000e+00, 0.000e+00, 0.000e+00, 0.000e+00,\n",
              "       0.000e+00, 0.000e+00, 0.000e+00, 0.000e+00, 0.000e+00, 0.000e+00,\n",
              "       0.000e+00, 0.000e+00, 0.000e+00, 0.000e+00, 0.000e+00, 0.000e+00,\n",
              "       0.000e+00, 0.000e+00, 0.000e+00, 0.000e+00, 0.000e+00, 0.000e+00,\n",
              "       0.000e+00, 0.000e+00, 0.000e+00, 0.000e+00, 0.000e+00, 0.000e+00,\n",
              "       0.000e+00, 0.000e+00, 0.000e+00, 0.000e+00, 0.000e+00, 0.000e+00,\n",
              "       0.000e+00, 0.000e+00, 0.000e+00, 0.000e+00, 0.000e+00, 0.000e+00,\n",
              "       0.000e+00, 0.000e+00, 0.000e+00, 0.000e+00, 0.000e+00, 0.000e+00,\n",
              "       0.000e+00, 0.000e+00, 0.000e+00, 0.000e+00, 0.000e+00, 0.000e+00,\n",
              "       0.000e+00, 0.000e+00, 0.000e+00, 0.000e+00, 0.000e+00, 0.000e+00,\n",
              "       0.000e+00, 0.000e+00, 0.000e+00, 0.000e+00, 0.000e+00, 0.000e+00,\n",
              "       0.000e+00, 0.000e+00, 0.000e+00, 0.000e+00, 0.000e+00, 0.000e+00,\n",
              "       0.000e+00, 0.000e+00, 0.000e+00, 0.000e+00, 0.000e+00, 0.000e+00,\n",
              "       0.000e+00, 0.000e+00, 0.000e+00, 0.000e+00, 0.000e+00, 0.000e+00,\n",
              "       0.000e+00, 0.000e+00, 0.000e+00, 0.000e+00, 0.000e+00, 0.000e+00,\n",
              "       0.000e+00, 0.000e+00, 0.000e+00, 0.000e+00, 0.000e+00, 0.000e+00,\n",
              "       0.000e+00, 0.000e+00, 0.000e+00, 0.000e+00, 0.000e+00, 0.000e+00,\n",
              "       0.000e+00, 0.000e+00, 0.000e+00, 0.000e+00, 0.000e+00, 0.000e+00,\n",
              "       0.000e+00, 0.000e+00, 0.000e+00, 0.000e+00, 0.000e+00, 0.000e+00,\n",
              "       0.000e+00, 0.000e+00, 0.000e+00, 0.000e+00, 0.000e+00, 0.000e+00,\n",
              "       0.000e+00, 0.000e+00, 0.000e+00, 0.000e+00, 0.000e+00, 0.000e+00,\n",
              "       0.000e+00, 0.000e+00, 0.000e+00, 0.000e+00, 0.000e+00, 0.000e+00,\n",
              "       0.000e+00, 0.000e+00, 0.000e+00, 0.000e+00, 0.000e+00, 0.000e+00,\n",
              "       0.000e+00, 0.000e+00, 0.000e+00, 0.000e+00, 0.000e+00, 0.000e+00,\n",
              "       0.000e+00, 0.000e+00, 0.000e+00, 0.000e+00, 0.000e+00, 0.000e+00,\n",
              "       0.000e+00, 0.000e+00, 0.000e+00, 0.000e+00, 0.000e+00, 0.000e+00,\n",
              "       0.000e+00, 0.000e+00, 0.000e+00, 0.000e+00, 0.000e+00, 0.000e+00,\n",
              "       0.000e+00, 0.000e+00, 0.000e+00, 0.000e+00, 0.000e+00, 0.000e+00,\n",
              "       0.000e+00, 0.000e+00, 0.000e+00, 0.000e+00, 0.000e+00, 0.000e+00,\n",
              "       0.000e+00, 0.000e+00, 0.000e+00, 0.000e+00, 0.000e+00, 0.000e+00,\n",
              "       0.000e+00, 0.000e+00, 0.000e+00, 0.000e+00, 0.000e+00, 0.000e+00,\n",
              "       0.000e+00, 0.000e+00, 0.000e+00, 0.000e+00, 0.000e+00, 0.000e+00,\n",
              "       0.000e+00, 0.000e+00, 0.000e+00, 0.000e+00, 0.000e+00, 0.000e+00,\n",
              "       0.000e+00, 0.000e+00, 0.000e+00, 0.000e+00, 0.000e+00, 0.000e+00,\n",
              "       0.000e+00, 0.000e+00, 0.000e+00, 0.000e+00, 0.000e+00, 0.000e+00,\n",
              "       0.000e+00, 0.000e+00, 0.000e+00, 0.000e+00, 0.000e+00, 0.000e+00,\n",
              "       0.000e+00, 0.000e+00, 0.000e+00, 0.000e+00, 0.000e+00, 0.000e+00,\n",
              "       0.000e+00, 0.000e+00, 0.000e+00, 0.000e+00, 0.000e+00, 0.000e+00,\n",
              "       0.000e+00, 0.000e+00, 0.000e+00, 0.000e+00, 0.000e+00, 0.000e+00,\n",
              "       0.000e+00, 0.000e+00, 0.000e+00, 0.000e+00, 0.000e+00, 0.000e+00,\n",
              "       0.000e+00, 0.000e+00, 0.000e+00, 0.000e+00, 0.000e+00, 0.000e+00,\n",
              "       0.000e+00, 0.000e+00, 0.000e+00, 0.000e+00, 0.000e+00, 0.000e+00,\n",
              "       0.000e+00, 0.000e+00, 0.000e+00, 0.000e+00, 0.000e+00, 0.000e+00,\n",
              "       0.000e+00, 0.000e+00, 0.000e+00, 0.000e+00, 0.000e+00, 0.000e+00,\n",
              "       0.000e+00, 0.000e+00, 0.000e+00, 0.000e+00, 0.000e+00, 0.000e+00,\n",
              "       0.000e+00, 0.000e+00, 0.000e+00, 0.000e+00, 0.000e+00, 0.000e+00,\n",
              "       0.000e+00, 0.000e+00, 0.000e+00, 0.000e+00, 0.000e+00, 0.000e+00,\n",
              "       0.000e+00, 0.000e+00, 0.000e+00, 0.000e+00, 0.000e+00, 0.000e+00,\n",
              "       0.000e+00, 0.000e+00, 0.000e+00, 0.000e+00, 0.000e+00, 0.000e+00,\n",
              "       0.000e+00, 0.000e+00, 0.000e+00, 0.000e+00, 0.000e+00, 0.000e+00,\n",
              "       0.000e+00, 0.000e+00, 0.000e+00, 0.000e+00, 0.000e+00, 0.000e+00,\n",
              "       0.000e+00, 0.000e+00, 0.000e+00, 0.000e+00, 0.000e+00, 0.000e+00,\n",
              "       0.000e+00, 0.000e+00, 0.000e+00, 0.000e+00, 0.000e+00, 0.000e+00,\n",
              "       0.000e+00, 0.000e+00, 0.000e+00, 0.000e+00, 0.000e+00, 0.000e+00,\n",
              "       0.000e+00, 0.000e+00, 0.000e+00, 0.000e+00, 0.000e+00, 0.000e+00,\n",
              "       0.000e+00, 0.000e+00, 0.000e+00, 0.000e+00, 0.000e+00, 0.000e+00,\n",
              "       0.000e+00, 0.000e+00, 0.000e+00, 0.000e+00, 0.000e+00, 0.000e+00,\n",
              "       0.000e+00, 0.000e+00, 0.000e+00, 0.000e+00, 0.000e+00, 0.000e+00,\n",
              "       0.000e+00, 0.000e+00, 0.000e+00, 0.000e+00, 0.000e+00, 0.000e+00,\n",
              "       0.000e+00, 0.000e+00, 0.000e+00, 0.000e+00, 0.000e+00, 0.000e+00,\n",
              "       0.000e+00, 0.000e+00, 0.000e+00, 0.000e+00, 0.000e+00, 0.000e+00,\n",
              "       0.000e+00, 0.000e+00, 0.000e+00, 0.000e+00, 0.000e+00, 0.000e+00,\n",
              "       0.000e+00, 0.000e+00, 0.000e+00, 0.000e+00, 0.000e+00, 0.000e+00,\n",
              "       0.000e+00, 0.000e+00, 0.000e+00, 0.000e+00, 0.000e+00, 0.000e+00,\n",
              "       0.000e+00, 0.000e+00, 0.000e+00, 0.000e+00, 0.000e+00, 0.000e+00,\n",
              "       0.000e+00, 0.000e+00, 0.000e+00, 0.000e+00, 0.000e+00, 0.000e+00,\n",
              "       1.000e+00, 0.000e+00, 1.000e+00, 0.000e+00, 0.000e+00, 0.000e+00,\n",
              "       0.000e+00, 0.000e+00, 0.000e+00, 0.000e+00, 0.000e+00, 0.000e+00,\n",
              "       0.000e+00, 0.000e+00, 0.000e+00, 0.000e+00, 0.000e+00, 0.000e+00,\n",
              "       2.015e+03])"
            ]
          },
          "metadata": {},
          "execution_count": 48
        }
      ]
    },
    {
      "cell_type": "code",
      "source": [
        "X_val.shape"
      ],
      "metadata": {
        "colab": {
          "base_uri": "https://localhost:8080/"
        },
        "id": "ifZR23uPO8-W",
        "outputId": "36826c74-d680-4824-d667-6db6299bee31"
      },
      "execution_count": 49,
      "outputs": [
        {
          "output_type": "execute_result",
          "data": {
            "text/plain": [
              "(2383, 943)"
            ]
          },
          "metadata": {},
          "execution_count": 49
        }
      ]
    },
    {
      "cell_type": "code",
      "source": [
        "y_pred = model.predict_proba(X_val)[:, 1]"
      ],
      "metadata": {
        "id": "xcOB7MkEOUT3"
      },
      "execution_count": 50,
      "outputs": []
    },
    {
      "cell_type": "code",
      "source": [
        "y_pred"
      ],
      "metadata": {
        "colab": {
          "base_uri": "https://localhost:8080/"
        },
        "id": "6yB2sjPTSf8v",
        "outputId": "71f56906-4a53-4834-fc00-b9925de645ae"
      },
      "execution_count": 51,
      "outputs": [
        {
          "output_type": "execute_result",
          "data": {
            "text/plain": [
              "array([0.0087346 , 0.99033279, 0.00157489, ..., 0.00145975, 0.97178288,\n",
              "       0.96248167])"
            ]
          },
          "metadata": {},
          "execution_count": 51
        }
      ]
    },
    {
      "cell_type": "code",
      "source": [
        "y_val"
      ],
      "metadata": {
        "colab": {
          "base_uri": "https://localhost:8080/"
        },
        "id": "dXaA6IA3Sjhu",
        "outputId": "0cac9c65-013b-4095-f672-8eb720d3ee92"
      },
      "execution_count": 52,
      "outputs": [
        {
          "output_type": "execute_result",
          "data": {
            "text/plain": [
              "1918     0\n",
              "9951     1\n",
              "5486     0\n",
              "292      0\n",
              "3644     0\n",
              "        ..\n",
              "4385     0\n",
              "7339     0\n",
              "9806     0\n",
              "11162    1\n",
              "3256     1\n",
              "Name: above_average, Length: 2383, dtype: int64"
            ]
          },
          "metadata": {},
          "execution_count": 52
        }
      ]
    },
    {
      "cell_type": "code",
      "source": [
        "y_pred = (y_pred >= 0.5).astype(int)"
      ],
      "metadata": {
        "id": "B10lE2fyRAbv"
      },
      "execution_count": 53,
      "outputs": []
    },
    {
      "cell_type": "code",
      "source": [
        "y_pred"
      ],
      "metadata": {
        "colab": {
          "base_uri": "https://localhost:8080/"
        },
        "id": "OqTl6J6FTnrk",
        "outputId": "c24d156a-4403-4853-e209-b99daaccc662"
      },
      "execution_count": 54,
      "outputs": [
        {
          "output_type": "execute_result",
          "data": {
            "text/plain": [
              "array([0, 1, 0, ..., 0, 1, 1])"
            ]
          },
          "metadata": {},
          "execution_count": 54
        }
      ]
    },
    {
      "cell_type": "code",
      "source": [
        "from sklearn.metrics import accuracy_score"
      ],
      "metadata": {
        "id": "NL6L6ZolU0rm"
      },
      "execution_count": 55,
      "outputs": []
    },
    {
      "cell_type": "code",
      "source": [
        "accuracy = accuracy_score(y_val, y_pred)"
      ],
      "metadata": {
        "id": "LMg-C-VKU4Hm"
      },
      "execution_count": 56,
      "outputs": []
    },
    {
      "cell_type": "code",
      "source": [
        "original_accuracy = round(accuracy, 2)"
      ],
      "metadata": {
        "id": "nmoSjmVnVEaq"
      },
      "execution_count": 58,
      "outputs": []
    },
    {
      "cell_type": "code",
      "source": [
        "original_accuracy"
      ],
      "metadata": {
        "colab": {
          "base_uri": "https://localhost:8080/"
        },
        "id": "BAc76iPjZ83N",
        "outputId": "6e25167f-47f7-4a77-def8-853137183fef"
      },
      "execution_count": 59,
      "outputs": [
        {
          "output_type": "execute_result",
          "data": {
            "text/plain": [
              "0.93"
            ]
          },
          "metadata": {},
          "execution_count": 59
        }
      ]
    },
    {
      "cell_type": "code",
      "source": [
        "dicts_full_train = df_full_train[categorical + numerical].to_dict(orient='records')"
      ],
      "metadata": {
        "id": "_5mDQkVqSRLx"
      },
      "execution_count": 60,
      "outputs": []
    },
    {
      "cell_type": "code",
      "source": [
        "dv = DictVectorizer(sparse=False)\n",
        "X_full_train = dv.fit_transform(dicts_full_train)"
      ],
      "metadata": {
        "id": "c3pqNjPRS_vW"
      },
      "execution_count": 61,
      "outputs": []
    },
    {
      "cell_type": "code",
      "source": [
        "y_full_train = df_full_train['above_average'].values"
      ],
      "metadata": {
        "id": "AyrDfDY8TFEj"
      },
      "execution_count": 62,
      "outputs": []
    },
    {
      "cell_type": "code",
      "source": [
        "model = LogisticRegression(solver='liblinear', C=10, max_iter=1000, random_state=42)"
      ],
      "metadata": {
        "id": "ZMd0oeQyTPpu"
      },
      "execution_count": 63,
      "outputs": []
    },
    {
      "cell_type": "code",
      "source": [
        "model.fit(X_full_train, y_full_train)"
      ],
      "metadata": {
        "colab": {
          "base_uri": "https://localhost:8080/",
          "height": 95
        },
        "id": "ZbUzgWeyTRPK",
        "outputId": "5619e59a-75d4-4398-f324-b224b5b9b2d5"
      },
      "execution_count": 64,
      "outputs": [
        {
          "output_type": "execute_result",
          "data": {
            "text/plain": [
              "LogisticRegression(C=10, max_iter=1000, random_state=42, solver='liblinear')"
            ],
            "text/html": [
              "<style>#sk-container-id-2 {color: black;background-color: white;}#sk-container-id-2 pre{padding: 0;}#sk-container-id-2 div.sk-toggleable {background-color: white;}#sk-container-id-2 label.sk-toggleable__label {cursor: pointer;display: block;width: 100%;margin-bottom: 0;padding: 0.3em;box-sizing: border-box;text-align: center;}#sk-container-id-2 label.sk-toggleable__label-arrow:before {content: \"▸\";float: left;margin-right: 0.25em;color: #696969;}#sk-container-id-2 label.sk-toggleable__label-arrow:hover:before {color: black;}#sk-container-id-2 div.sk-estimator:hover label.sk-toggleable__label-arrow:before {color: black;}#sk-container-id-2 div.sk-toggleable__content {max-height: 0;max-width: 0;overflow: hidden;text-align: left;background-color: #f0f8ff;}#sk-container-id-2 div.sk-toggleable__content pre {margin: 0.2em;color: black;border-radius: 0.25em;background-color: #f0f8ff;}#sk-container-id-2 input.sk-toggleable__control:checked~div.sk-toggleable__content {max-height: 200px;max-width: 100%;overflow: auto;}#sk-container-id-2 input.sk-toggleable__control:checked~label.sk-toggleable__label-arrow:before {content: \"▾\";}#sk-container-id-2 div.sk-estimator input.sk-toggleable__control:checked~label.sk-toggleable__label {background-color: #d4ebff;}#sk-container-id-2 div.sk-label input.sk-toggleable__control:checked~label.sk-toggleable__label {background-color: #d4ebff;}#sk-container-id-2 input.sk-hidden--visually {border: 0;clip: rect(1px 1px 1px 1px);clip: rect(1px, 1px, 1px, 1px);height: 1px;margin: -1px;overflow: hidden;padding: 0;position: absolute;width: 1px;}#sk-container-id-2 div.sk-estimator {font-family: monospace;background-color: #f0f8ff;border: 1px dotted black;border-radius: 0.25em;box-sizing: border-box;margin-bottom: 0.5em;}#sk-container-id-2 div.sk-estimator:hover {background-color: #d4ebff;}#sk-container-id-2 div.sk-parallel-item::after {content: \"\";width: 100%;border-bottom: 1px solid gray;flex-grow: 1;}#sk-container-id-2 div.sk-label:hover label.sk-toggleable__label {background-color: #d4ebff;}#sk-container-id-2 div.sk-serial::before {content: \"\";position: absolute;border-left: 1px solid gray;box-sizing: border-box;top: 0;bottom: 0;left: 50%;z-index: 0;}#sk-container-id-2 div.sk-serial {display: flex;flex-direction: column;align-items: center;background-color: white;padding-right: 0.2em;padding-left: 0.2em;position: relative;}#sk-container-id-2 div.sk-item {position: relative;z-index: 1;}#sk-container-id-2 div.sk-parallel {display: flex;align-items: stretch;justify-content: center;background-color: white;position: relative;}#sk-container-id-2 div.sk-item::before, #sk-container-id-2 div.sk-parallel-item::before {content: \"\";position: absolute;border-left: 1px solid gray;box-sizing: border-box;top: 0;bottom: 0;left: 50%;z-index: -1;}#sk-container-id-2 div.sk-parallel-item {display: flex;flex-direction: column;z-index: 1;position: relative;background-color: white;}#sk-container-id-2 div.sk-parallel-item:first-child::after {align-self: flex-end;width: 50%;}#sk-container-id-2 div.sk-parallel-item:last-child::after {align-self: flex-start;width: 50%;}#sk-container-id-2 div.sk-parallel-item:only-child::after {width: 0;}#sk-container-id-2 div.sk-dashed-wrapped {border: 1px dashed gray;margin: 0 0.4em 0.5em 0.4em;box-sizing: border-box;padding-bottom: 0.4em;background-color: white;}#sk-container-id-2 div.sk-label label {font-family: monospace;font-weight: bold;display: inline-block;line-height: 1.2em;}#sk-container-id-2 div.sk-label-container {text-align: center;}#sk-container-id-2 div.sk-container {/* jupyter's `normalize.less` sets `[hidden] { display: none; }` but bootstrap.min.css set `[hidden] { display: none !important; }` so we also need the `!important` here to be able to override the default hidden behavior on the sphinx rendered scikit-learn.org. See: https://github.com/scikit-learn/scikit-learn/issues/21755 */display: inline-block !important;position: relative;}#sk-container-id-2 div.sk-text-repr-fallback {display: none;}</style><div id=\"sk-container-id-2\" class=\"sk-top-container\"><div class=\"sk-text-repr-fallback\"><pre>LogisticRegression(C=10, max_iter=1000, random_state=42, solver=&#x27;liblinear&#x27;)</pre><b>In a Jupyter environment, please rerun this cell to show the HTML representation or trust the notebook. <br />On GitHub, the HTML representation is unable to render, please try loading this page with nbviewer.org.</b></div><div class=\"sk-container\" hidden><div class=\"sk-item\"><div class=\"sk-estimator sk-toggleable\"><input class=\"sk-toggleable__control sk-hidden--visually\" id=\"sk-estimator-id-2\" type=\"checkbox\" checked><label for=\"sk-estimator-id-2\" class=\"sk-toggleable__label sk-toggleable__label-arrow\">LogisticRegression</label><div class=\"sk-toggleable__content\"><pre>LogisticRegression(C=10, max_iter=1000, random_state=42, solver=&#x27;liblinear&#x27;)</pre></div></div></div></div></div>"
            ]
          },
          "metadata": {},
          "execution_count": 64
        }
      ]
    },
    {
      "cell_type": "code",
      "source": [
        "dicts_test = df_test[categorical + numerical].to_dict(orient='records')"
      ],
      "metadata": {
        "id": "yi21zP9cTcu-"
      },
      "execution_count": 65,
      "outputs": []
    },
    {
      "cell_type": "code",
      "source": [
        "X_test = dv.transform(dicts_test)"
      ],
      "metadata": {
        "id": "Kfl530V_To6z"
      },
      "execution_count": 66,
      "outputs": []
    },
    {
      "cell_type": "code",
      "source": [
        "y_pred = model.predict_proba(X_test)[:, 1]"
      ],
      "metadata": {
        "id": "sleBx5yoTsu0"
      },
      "execution_count": 67,
      "outputs": []
    },
    {
      "cell_type": "code",
      "source": [
        "above_average = (y_pred >= 0.5)"
      ],
      "metadata": {
        "id": "Z2E5Ji0tTxxw"
      },
      "execution_count": 68,
      "outputs": []
    },
    {
      "cell_type": "code",
      "source": [
        "y_pred = (y_pred >= 0.5).astype(int)"
      ],
      "metadata": {
        "id": "Plu_uSMIT6aQ"
      },
      "execution_count": 69,
      "outputs": []
    },
    {
      "cell_type": "code",
      "source": [
        "original_accuracy = accuracy_score(y_test, y_pred)"
      ],
      "metadata": {
        "id": "fT6fagiVUKmp"
      },
      "execution_count": 70,
      "outputs": []
    },
    {
      "cell_type": "code",
      "source": [
        "original_accuracy"
      ],
      "metadata": {
        "colab": {
          "base_uri": "https://localhost:8080/"
        },
        "id": "wsejGpw5UYCK",
        "outputId": "09eb205f-8a1c-412d-ae0e-55c6345c293a"
      },
      "execution_count": 71,
      "outputs": [
        {
          "output_type": "execute_result",
          "data": {
            "text/plain": [
              "0.9425094418799832"
            ]
          },
          "metadata": {},
          "execution_count": 71
        }
      ]
    },
    {
      "cell_type": "code",
      "source": [
        "categorical"
      ],
      "metadata": {
        "colab": {
          "base_uri": "https://localhost:8080/"
        },
        "id": "bMiKrPZjVPUv",
        "outputId": "d3e37671-02f1-439b-c102-6da389ae554b"
      },
      "execution_count": 72,
      "outputs": [
        {
          "output_type": "execute_result",
          "data": {
            "text/plain": [
              "['make', 'model', 'transmission_type', 'vehicle_style']"
            ]
          },
          "metadata": {},
          "execution_count": 72
        }
      ]
    },
    {
      "cell_type": "code",
      "source": [
        "numerical"
      ],
      "metadata": {
        "colab": {
          "base_uri": "https://localhost:8080/"
        },
        "id": "19qVBDiZVSTy",
        "outputId": "56a8d43f-2c82-4698-dfff-28f45f409490"
      },
      "execution_count": 73,
      "outputs": [
        {
          "output_type": "execute_result",
          "data": {
            "text/plain": [
              "['year', 'engine_hp', 'engine_cylinders', 'highway_mpg', 'city_mpg']"
            ]
          },
          "metadata": {},
          "execution_count": 73
        }
      ]
    },
    {
      "cell_type": "markdown",
      "source": [
        "Without year"
      ],
      "metadata": {
        "id": "JpwnbEbTUiLy"
      }
    },
    {
      "cell_type": "code",
      "source": [
        "dicts_full_train = df_full_train[['make', 'model', 'transmission_type', 'vehicle_style'] + ['engine_hp', 'engine_cylinders', 'highway_mpg', 'city_mpg']].to_dict(orient='records')\n",
        "dv = DictVectorizer(sparse=False)\n",
        "X_full_train = dv.fit_transform(dicts_full_train)\n",
        "y_full_train = df_full_train['above_average'].values\n",
        "model = LogisticRegression(solver='liblinear', C=10, max_iter=1000, random_state=42)\n",
        "model.fit(X_full_train, y_full_train)\n",
        "dicts_test = df_test[['make', 'model', 'transmission_type', 'vehicle_style'] + ['engine_hp', 'engine_cylinders', 'highway_mpg', 'city_mpg']].to_dict(orient='records')\n",
        "X_test = dv.transform(dicts_test)\n",
        "y_pred = model.predict_proba(X_test)[:, 1]\n",
        "X_test = dv.transform(dicts_test)\n",
        "y_pred = (y_pred >= 0.5).astype(int)\n",
        "accuracy = accuracy_score(y_test, y_pred)"
      ],
      "metadata": {
        "id": "u8vK2H6AUdYn"
      },
      "execution_count": 74,
      "outputs": []
    },
    {
      "cell_type": "code",
      "source": [
        "accuracy"
      ],
      "metadata": {
        "colab": {
          "base_uri": "https://localhost:8080/"
        },
        "id": "RX3aIU_eWsu9",
        "outputId": "35a7c73c-afaa-437c-b31c-f4d63e7beb31"
      },
      "execution_count": 75,
      "outputs": [
        {
          "output_type": "execute_result",
          "data": {
            "text/plain": [
              "0.9555182543013009"
            ]
          },
          "metadata": {},
          "execution_count": 75
        }
      ]
    },
    {
      "cell_type": "code",
      "source": [
        "abs(original_accuracy - accuracy)"
      ],
      "metadata": {
        "colab": {
          "base_uri": "https://localhost:8080/"
        },
        "id": "1yWkP74bW4q3",
        "outputId": "d895b5bb-0611-4e15-832f-924f0cd1a73a"
      },
      "execution_count": 76,
      "outputs": [
        {
          "output_type": "execute_result",
          "data": {
            "text/plain": [
              "0.013008812421317684"
            ]
          },
          "metadata": {},
          "execution_count": 76
        }
      ]
    },
    {
      "cell_type": "markdown",
      "source": [
        "Without engine_hp"
      ],
      "metadata": {
        "id": "-z2RqBazXW3p"
      }
    },
    {
      "cell_type": "code",
      "source": [
        "dicts_full_train = df_full_train[['make', 'model', 'transmission_type', 'vehicle_style'] + ['year', 'engine_cylinders', 'highway_mpg', 'city_mpg']].to_dict(orient='records')\n",
        "dv = DictVectorizer(sparse=False)\n",
        "X_full_train = dv.fit_transform(dicts_full_train)\n",
        "y_full_train = df_full_train['above_average'].values\n",
        "model = LogisticRegression(solver='liblinear', C=10, max_iter=1000, random_state=42)\n",
        "model.fit(X_full_train, y_full_train)\n",
        "dicts_test = df_test[['make', 'model', 'transmission_type', 'vehicle_style'] + ['year', 'engine_cylinders', 'highway_mpg', 'city_mpg']].to_dict(orient='records')\n",
        "X_test = dv.transform(dicts_test)\n",
        "y_pred = model.predict_proba(X_test)[:, 1]\n",
        "X_test = dv.transform(dicts_test)\n",
        "y_pred = (y_pred >= 0.5).astype(int)\n",
        "accuracy = accuracy_score(y_test, y_pred)\n",
        "abs(original_accuracy - accuracy)"
      ],
      "metadata": {
        "colab": {
          "base_uri": "https://localhost:8080/"
        },
        "id": "GDVb-TQuW_bV",
        "outputId": "3b4de514-188b-4aa8-b845-228981493767"
      },
      "execution_count": 77,
      "outputs": [
        {
          "output_type": "execute_result",
          "data": {
            "text/plain": [
              "0.015107007973143127"
            ]
          },
          "metadata": {},
          "execution_count": 77
        }
      ]
    },
    {
      "cell_type": "markdown",
      "source": [
        "Without transmission_type"
      ],
      "metadata": {
        "id": "6b90V3i5XdL7"
      }
    },
    {
      "cell_type": "code",
      "source": [
        "dicts_full_train = df_full_train[['make', 'model', 'vehicle_style'] + ['year', 'engine_hp', 'engine_cylinders', 'highway_mpg', 'city_mpg']].to_dict(orient='records')\n",
        "dv = DictVectorizer(sparse=False)\n",
        "X_full_train = dv.fit_transform(dicts_full_train)\n",
        "y_full_train = df_full_train['above_average'].values\n",
        "model = LogisticRegression(solver='liblinear', C=10, max_iter=1000, random_state=42)\n",
        "model.fit(X_full_train, y_full_train)\n",
        "dicts_test = df_test[['make', 'model', 'vehicle_style'] + ['year', 'engine_hp', 'engine_cylinders', 'highway_mpg', 'city_mpg']].to_dict(orient='records')\n",
        "X_test = dv.transform(dicts_test)\n",
        "y_pred = model.predict_proba(X_test)[:, 1]\n",
        "X_test = dv.transform(dicts_test)\n",
        "y_pred = (y_pred >= 0.5).astype(int)\n",
        "accuracy = accuracy_score(y_test, y_pred)\n",
        "abs(original_accuracy - accuracy)"
      ],
      "metadata": {
        "colab": {
          "base_uri": "https://localhost:8080/"
        },
        "id": "0GLT5yVHXKTm",
        "outputId": "971324a8-2566-484c-d910-b2e937a5e7ad"
      },
      "execution_count": 81,
      "outputs": [
        {
          "output_type": "execute_result",
          "data": {
            "text/plain": [
              "0.0008392782207301552"
            ]
          },
          "metadata": {},
          "execution_count": 81
        }
      ]
    },
    {
      "cell_type": "markdown",
      "source": [
        "Without city_mpg"
      ],
      "metadata": {
        "id": "l6MHNgd-XbD1"
      }
    },
    {
      "cell_type": "code",
      "source": [
        "dicts_full_train = df_full_train[['make', 'model', 'transmission_type', 'vehicle_style'] + ['year', 'engine_hp', 'engine_cylinders', 'highway_mpg']].to_dict(orient='records')\n",
        "dv = DictVectorizer(sparse=False)\n",
        "X_full_train = dv.fit_transform(dicts_full_train)\n",
        "y_full_train = df_full_train['above_average'].values\n",
        "model = LogisticRegression(solver='liblinear', C=10, max_iter=1000, random_state=42)\n",
        "model.fit(X_full_train, y_full_train)\n",
        "dicts_test = df_test[['make', 'model', 'transmission_type', 'vehicle_style'] + ['year', 'engine_hp', 'engine_cylinders', 'highway_mpg']].to_dict(orient='records')\n",
        "X_test = dv.transform(dicts_test)\n",
        "y_pred = model.predict_proba(X_test)[:, 1]\n",
        "X_test = dv.transform(dicts_test)\n",
        "y_pred = (y_pred >= 0.5).astype(int)\n",
        "accuracy = accuracy_score(y_test, y_pred)\n",
        "abs(original_accuracy - accuracy)"
      ],
      "metadata": {
        "colab": {
          "base_uri": "https://localhost:8080/"
        },
        "id": "UawaNOKxX1dw",
        "outputId": "55e8c8b8-b0fc-4480-932c-ea5c0ed9ebb3"
      },
      "execution_count": 79,
      "outputs": [
        {
          "output_type": "execute_result",
          "data": {
            "text/plain": [
              "0.010490977759127107"
            ]
          },
          "metadata": {},
          "execution_count": 79
        }
      ]
    },
    {
      "cell_type": "code",
      "source": [],
      "metadata": {
        "id": "te0QSoP2dzwq"
      },
      "execution_count": null,
      "outputs": []
    },
    {
      "cell_type": "markdown",
      "source": [
        "Question 6"
      ],
      "metadata": {
        "id": "e4xD35z2YsPv"
      }
    },
    {
      "cell_type": "code",
      "source": [
        "dicts_full_train = df_full_train[categorical + numerical].to_dict(orient='records')\n",
        "dv = DictVectorizer(sparse=False)\n",
        "X_full_train = dv.fit_transform(dicts_full_train)\n",
        "df_full_train['price'] = train_price\n",
        "y_full_train = df_full_train['price']\n",
        "from sklearn.linear_model import Ridge\n",
        "model = Ridge(solver='sag', random_state=42, alpha=0)\n",
        "model.fit(X_full_train, y_full_train)\n",
        "dicts_test = df_test[categorical + numerical].to_dict(orient='records')\n",
        "X_test = dv.transform(dicts_test)\n",
        "y_test = test_price\n",
        "y_pred = model.predict_proba(X_test)[:, 1]\n",
        "from sklearn.metrics import mean_squared_error\n",
        "mean_squared_error(y_test, y_pred)"
      ],
      "metadata": {
        "colab": {
          "base_uri": "https://localhost:8080/",
          "height": 471
        },
        "id": "1OyxmmX9YLW1",
        "outputId": "0cbf3f2e-ac9c-4d79-e1e9-a99593b1345b"
      },
      "execution_count": 88,
      "outputs": [
        {
          "output_type": "error",
          "ename": "ValueError",
          "evalue": "ignored",
          "traceback": [
            "\u001b[0;31m---------------------------------------------------------------------------\u001b[0m",
            "\u001b[0;31mValueError\u001b[0m                                Traceback (most recent call last)",
            "\u001b[0;32m<ipython-input-88-30a80ac9af7a>\u001b[0m in \u001b[0;36m<cell line: 8>\u001b[0;34m()\u001b[0m\n\u001b[1;32m      6\u001b[0m \u001b[0;32mfrom\u001b[0m \u001b[0msklearn\u001b[0m\u001b[0;34m.\u001b[0m\u001b[0mlinear_model\u001b[0m \u001b[0;32mimport\u001b[0m \u001b[0mRidge\u001b[0m\u001b[0;34m\u001b[0m\u001b[0;34m\u001b[0m\u001b[0m\n\u001b[1;32m      7\u001b[0m \u001b[0mmodel\u001b[0m \u001b[0;34m=\u001b[0m \u001b[0mRidge\u001b[0m\u001b[0;34m(\u001b[0m\u001b[0msolver\u001b[0m\u001b[0;34m=\u001b[0m\u001b[0;34m'sag'\u001b[0m\u001b[0;34m,\u001b[0m \u001b[0mrandom_state\u001b[0m\u001b[0;34m=\u001b[0m\u001b[0;36m42\u001b[0m\u001b[0;34m,\u001b[0m \u001b[0malpha\u001b[0m\u001b[0;34m=\u001b[0m\u001b[0;36m0\u001b[0m\u001b[0;34m)\u001b[0m\u001b[0;34m\u001b[0m\u001b[0;34m\u001b[0m\u001b[0m\n\u001b[0;32m----> 8\u001b[0;31m \u001b[0mmodel\u001b[0m\u001b[0;34m.\u001b[0m\u001b[0mfit\u001b[0m\u001b[0;34m(\u001b[0m\u001b[0mX_full_train\u001b[0m\u001b[0;34m,\u001b[0m \u001b[0my_full_train\u001b[0m\u001b[0;34m)\u001b[0m\u001b[0;34m\u001b[0m\u001b[0;34m\u001b[0m\u001b[0m\n\u001b[0m\u001b[1;32m      9\u001b[0m \u001b[0mdicts_test\u001b[0m \u001b[0;34m=\u001b[0m \u001b[0mdf_test\u001b[0m\u001b[0;34m[\u001b[0m\u001b[0mcategorical\u001b[0m \u001b[0;34m+\u001b[0m \u001b[0mnumerical\u001b[0m\u001b[0;34m]\u001b[0m\u001b[0;34m.\u001b[0m\u001b[0mto_dict\u001b[0m\u001b[0;34m(\u001b[0m\u001b[0morient\u001b[0m\u001b[0;34m=\u001b[0m\u001b[0;34m'records'\u001b[0m\u001b[0;34m)\u001b[0m\u001b[0;34m\u001b[0m\u001b[0;34m\u001b[0m\u001b[0m\n\u001b[1;32m     10\u001b[0m \u001b[0mX_test\u001b[0m \u001b[0;34m=\u001b[0m \u001b[0mdv\u001b[0m\u001b[0;34m.\u001b[0m\u001b[0mtransform\u001b[0m\u001b[0;34m(\u001b[0m\u001b[0mdicts_test\u001b[0m\u001b[0;34m)\u001b[0m\u001b[0;34m\u001b[0m\u001b[0;34m\u001b[0m\u001b[0m\n",
            "\u001b[0;32m/usr/local/lib/python3.10/dist-packages/sklearn/linear_model/_ridge.py\u001b[0m in \u001b[0;36mfit\u001b[0;34m(self, X, y, sample_weight)\u001b[0m\n\u001b[1;32m   1124\u001b[0m \u001b[0;34m\u001b[0m\u001b[0m\n\u001b[1;32m   1125\u001b[0m         \u001b[0m_accept_sparse\u001b[0m \u001b[0;34m=\u001b[0m \u001b[0m_get_valid_accept_sparse\u001b[0m\u001b[0;34m(\u001b[0m\u001b[0msparse\u001b[0m\u001b[0;34m.\u001b[0m\u001b[0missparse\u001b[0m\u001b[0;34m(\u001b[0m\u001b[0mX\u001b[0m\u001b[0;34m)\u001b[0m\u001b[0;34m,\u001b[0m \u001b[0mself\u001b[0m\u001b[0;34m.\u001b[0m\u001b[0msolver\u001b[0m\u001b[0;34m)\u001b[0m\u001b[0;34m\u001b[0m\u001b[0;34m\u001b[0m\u001b[0m\n\u001b[0;32m-> 1126\u001b[0;31m         X, y = self._validate_data(\n\u001b[0m\u001b[1;32m   1127\u001b[0m             \u001b[0mX\u001b[0m\u001b[0;34m,\u001b[0m\u001b[0;34m\u001b[0m\u001b[0;34m\u001b[0m\u001b[0m\n\u001b[1;32m   1128\u001b[0m             \u001b[0my\u001b[0m\u001b[0;34m,\u001b[0m\u001b[0;34m\u001b[0m\u001b[0;34m\u001b[0m\u001b[0m\n",
            "\u001b[0;32m/usr/local/lib/python3.10/dist-packages/sklearn/base.py\u001b[0m in \u001b[0;36m_validate_data\u001b[0;34m(self, X, y, reset, validate_separately, **check_params)\u001b[0m\n\u001b[1;32m    582\u001b[0m                 \u001b[0my\u001b[0m \u001b[0;34m=\u001b[0m \u001b[0mcheck_array\u001b[0m\u001b[0;34m(\u001b[0m\u001b[0my\u001b[0m\u001b[0;34m,\u001b[0m \u001b[0minput_name\u001b[0m\u001b[0;34m=\u001b[0m\u001b[0;34m\"y\"\u001b[0m\u001b[0;34m,\u001b[0m \u001b[0;34m**\u001b[0m\u001b[0mcheck_y_params\u001b[0m\u001b[0;34m)\u001b[0m\u001b[0;34m\u001b[0m\u001b[0;34m\u001b[0m\u001b[0m\n\u001b[1;32m    583\u001b[0m             \u001b[0;32melse\u001b[0m\u001b[0;34m:\u001b[0m\u001b[0;34m\u001b[0m\u001b[0;34m\u001b[0m\u001b[0m\n\u001b[0;32m--> 584\u001b[0;31m                 \u001b[0mX\u001b[0m\u001b[0;34m,\u001b[0m \u001b[0my\u001b[0m \u001b[0;34m=\u001b[0m \u001b[0mcheck_X_y\u001b[0m\u001b[0;34m(\u001b[0m\u001b[0mX\u001b[0m\u001b[0;34m,\u001b[0m \u001b[0my\u001b[0m\u001b[0;34m,\u001b[0m \u001b[0;34m**\u001b[0m\u001b[0mcheck_params\u001b[0m\u001b[0;34m)\u001b[0m\u001b[0;34m\u001b[0m\u001b[0;34m\u001b[0m\u001b[0m\n\u001b[0m\u001b[1;32m    585\u001b[0m             \u001b[0mout\u001b[0m \u001b[0;34m=\u001b[0m \u001b[0mX\u001b[0m\u001b[0;34m,\u001b[0m \u001b[0my\u001b[0m\u001b[0;34m\u001b[0m\u001b[0;34m\u001b[0m\u001b[0m\n\u001b[1;32m    586\u001b[0m \u001b[0;34m\u001b[0m\u001b[0m\n",
            "\u001b[0;32m/usr/local/lib/python3.10/dist-packages/sklearn/utils/validation.py\u001b[0m in \u001b[0;36mcheck_X_y\u001b[0;34m(X, y, accept_sparse, accept_large_sparse, dtype, order, copy, force_all_finite, ensure_2d, allow_nd, multi_output, ensure_min_samples, ensure_min_features, y_numeric, estimator)\u001b[0m\n\u001b[1;32m   1120\u001b[0m     )\n\u001b[1;32m   1121\u001b[0m \u001b[0;34m\u001b[0m\u001b[0m\n\u001b[0;32m-> 1122\u001b[0;31m     \u001b[0my\u001b[0m \u001b[0;34m=\u001b[0m \u001b[0m_check_y\u001b[0m\u001b[0;34m(\u001b[0m\u001b[0my\u001b[0m\u001b[0;34m,\u001b[0m \u001b[0mmulti_output\u001b[0m\u001b[0;34m=\u001b[0m\u001b[0mmulti_output\u001b[0m\u001b[0;34m,\u001b[0m \u001b[0my_numeric\u001b[0m\u001b[0;34m=\u001b[0m\u001b[0my_numeric\u001b[0m\u001b[0;34m,\u001b[0m \u001b[0mestimator\u001b[0m\u001b[0;34m=\u001b[0m\u001b[0mestimator\u001b[0m\u001b[0;34m)\u001b[0m\u001b[0;34m\u001b[0m\u001b[0;34m\u001b[0m\u001b[0m\n\u001b[0m\u001b[1;32m   1123\u001b[0m \u001b[0;34m\u001b[0m\u001b[0m\n\u001b[1;32m   1124\u001b[0m     \u001b[0mcheck_consistent_length\u001b[0m\u001b[0;34m(\u001b[0m\u001b[0mX\u001b[0m\u001b[0;34m,\u001b[0m \u001b[0my\u001b[0m\u001b[0;34m)\u001b[0m\u001b[0;34m\u001b[0m\u001b[0;34m\u001b[0m\u001b[0m\n",
            "\u001b[0;32m/usr/local/lib/python3.10/dist-packages/sklearn/utils/validation.py\u001b[0m in \u001b[0;36m_check_y\u001b[0;34m(y, multi_output, y_numeric, estimator)\u001b[0m\n\u001b[1;32m   1130\u001b[0m     \u001b[0;34m\"\"\"Isolated part of check_X_y dedicated to y validation\"\"\"\u001b[0m\u001b[0;34m\u001b[0m\u001b[0;34m\u001b[0m\u001b[0m\n\u001b[1;32m   1131\u001b[0m     \u001b[0;32mif\u001b[0m \u001b[0mmulti_output\u001b[0m\u001b[0;34m:\u001b[0m\u001b[0;34m\u001b[0m\u001b[0;34m\u001b[0m\u001b[0m\n\u001b[0;32m-> 1132\u001b[0;31m         y = check_array(\n\u001b[0m\u001b[1;32m   1133\u001b[0m             \u001b[0my\u001b[0m\u001b[0;34m,\u001b[0m\u001b[0;34m\u001b[0m\u001b[0;34m\u001b[0m\u001b[0m\n\u001b[1;32m   1134\u001b[0m             \u001b[0maccept_sparse\u001b[0m\u001b[0;34m=\u001b[0m\u001b[0;34m\"csr\"\u001b[0m\u001b[0;34m,\u001b[0m\u001b[0;34m\u001b[0m\u001b[0;34m\u001b[0m\u001b[0m\n",
            "\u001b[0;32m/usr/local/lib/python3.10/dist-packages/sklearn/utils/validation.py\u001b[0m in \u001b[0;36mcheck_array\u001b[0;34m(array, accept_sparse, accept_large_sparse, dtype, order, copy, force_all_finite, ensure_2d, allow_nd, ensure_min_samples, ensure_min_features, estimator, input_name)\u001b[0m\n\u001b[1;32m    919\u001b[0m \u001b[0;34m\u001b[0m\u001b[0m\n\u001b[1;32m    920\u001b[0m         \u001b[0;32mif\u001b[0m \u001b[0mforce_all_finite\u001b[0m\u001b[0;34m:\u001b[0m\u001b[0;34m\u001b[0m\u001b[0;34m\u001b[0m\u001b[0m\n\u001b[0;32m--> 921\u001b[0;31m             _assert_all_finite(\n\u001b[0m\u001b[1;32m    922\u001b[0m                 \u001b[0marray\u001b[0m\u001b[0;34m,\u001b[0m\u001b[0;34m\u001b[0m\u001b[0;34m\u001b[0m\u001b[0m\n\u001b[1;32m    923\u001b[0m                 \u001b[0minput_name\u001b[0m\u001b[0;34m=\u001b[0m\u001b[0minput_name\u001b[0m\u001b[0;34m,\u001b[0m\u001b[0;34m\u001b[0m\u001b[0;34m\u001b[0m\u001b[0m\n",
            "\u001b[0;32m/usr/local/lib/python3.10/dist-packages/sklearn/utils/validation.py\u001b[0m in \u001b[0;36m_assert_all_finite\u001b[0;34m(X, allow_nan, msg_dtype, estimator_name, input_name)\u001b[0m\n\u001b[1;32m    159\u001b[0m                 \u001b[0;34m\"#estimators-that-handle-nan-values\"\u001b[0m\u001b[0;34m\u001b[0m\u001b[0;34m\u001b[0m\u001b[0m\n\u001b[1;32m    160\u001b[0m             )\n\u001b[0;32m--> 161\u001b[0;31m         \u001b[0;32mraise\u001b[0m \u001b[0mValueError\u001b[0m\u001b[0;34m(\u001b[0m\u001b[0mmsg_err\u001b[0m\u001b[0;34m)\u001b[0m\u001b[0;34m\u001b[0m\u001b[0;34m\u001b[0m\u001b[0m\n\u001b[0m\u001b[1;32m    162\u001b[0m \u001b[0;34m\u001b[0m\u001b[0m\n\u001b[1;32m    163\u001b[0m \u001b[0;34m\u001b[0m\u001b[0m\n",
            "\u001b[0;31mValueError\u001b[0m: Input y contains NaN."
          ]
        }
      ]
    },
    {
      "cell_type": "code",
      "source": [
        "df_full_train, df_test = train_test_split(df, test_size=0.2, random_state=42)"
      ],
      "metadata": {
        "id": "51DZY6yVcymx"
      },
      "execution_count": 90,
      "outputs": []
    },
    {
      "cell_type": "code",
      "source": [
        "y_full_train = df_full_train.price"
      ],
      "metadata": {
        "id": "YPURjQ_xedrF"
      },
      "execution_count": 92,
      "outputs": []
    },
    {
      "cell_type": "code",
      "source": [
        "y_test = df_test.price"
      ],
      "metadata": {
        "id": "fX18RmBCelWJ"
      },
      "execution_count": 93,
      "outputs": []
    },
    {
      "cell_type": "code",
      "source": [
        "del df_full_train['price']\n",
        "del df_test['price']"
      ],
      "metadata": {
        "id": "WV8uEeFMeryQ"
      },
      "execution_count": 94,
      "outputs": []
    },
    {
      "cell_type": "code",
      "source": [
        "dicts_full_train = df_full_train[categorical + numerical].to_dict(orient='records')"
      ],
      "metadata": {
        "id": "U_ebef-feLOv"
      },
      "execution_count": 95,
      "outputs": []
    },
    {
      "cell_type": "code",
      "source": [
        "dv = DictVectorizer(sparse=False)\n",
        "X_train = dv.fit_transform(dicts_full_train)\n"
      ],
      "metadata": {
        "id": "0P9EJ6zZeVeI"
      },
      "execution_count": 97,
      "outputs": []
    },
    {
      "cell_type": "code",
      "source": [
        "y_train = list(np.log1p(y_full_train))"
      ],
      "metadata": {
        "id": "fTMGyHPZe4k6"
      },
      "execution_count": 102,
      "outputs": []
    },
    {
      "cell_type": "code",
      "source": [
        "y_train"
      ],
      "metadata": {
        "colab": {
          "base_uri": "https://localhost:8080/"
        },
        "id": "WKRLnzqXfQKE",
        "outputId": "7ebec52e-4977-4704-83a4-1429b050dcb5"
      },
      "execution_count": 104,
      "outputs": [
        {
          "output_type": "execute_result",
          "data": {
            "text/plain": [
              "[10.887362163733815,\n",
              " 11.4494636972589,\n",
              " 9.89802264710506,\n",
              " 7.601402334583733,\n",
              " 9.96509992166365,\n",
              " 10.675931008412125,\n",
              " 10.188704088048116,\n",
              " 10.261022126886742,\n",
              " 10.774801838762809,\n",
              " 11.227853317033851,\n",
              " 9.989481745702989,\n",
              " 10.572111481163375,\n",
              " 12.646080877240509,\n",
              " 8.07775756373692,\n",
              " 10.302129435296166,\n",
              " 10.20121896084091,\n",
              " 7.601402334583733,\n",
              " 10.327152697288243,\n",
              " 10.413192548633416,\n",
              " 11.120193939586706,\n",
              " 10.376642461280849,\n",
              " 10.310484819622369,\n",
              " 7.601402334583733,\n",
              " 10.169728906753061,\n",
              " 10.025749432069084,\n",
              " 10.371176003824424,\n",
              " 10.843514342086866,\n",
              " 10.120452052773622,\n",
              " 10.23480366200797,\n",
              " 10.425134414933702,\n",
              " 10.724280086931744,\n",
              " 9.713899659750128,\n",
              " 9.872306435052554,\n",
              " 10.332701738815134,\n",
              " 10.813880929144199,\n",
              " 10.403080323368991,\n",
              " 10.185503603361282,\n",
              " 10.782616250721516,\n",
              " 7.645875825184813,\n",
              " 11.305913595583258,\n",
              " 10.652566005416872,\n",
              " 10.138796800749208,\n",
              " 10.300449948152544,\n",
              " 9.798127036878302,\n",
              " 11.091346218718432,\n",
              " 9.595330626894961,\n",
              " 7.732807530422021,\n",
              " 10.184560331647974,\n",
              " 10.192456296870509,\n",
              " 10.646638446331167,\n",
              " 12.259618151783465,\n",
              " 10.506190196826267,\n",
              " 10.76164056768034,\n",
              " 10.30547997116532,\n",
              " 9.863498544319764,\n",
              " 10.16087792924552,\n",
              " 11.725582221560256,\n",
              " 10.361734846083262,\n",
              " 9.96015139965367,\n",
              " 9.703572127341126,\n",
              " 10.22179581852967,\n",
              " 10.44729330359671,\n",
              " 10.634676867382668,\n",
              " 12.501205640786806,\n",
              " 12.37201495855807,\n",
              " 10.363472411086743,\n",
              " 10.214495450291405,\n",
              " 9.641863014403636,\n",
              " 10.327970666480054,\n",
              " 7.68662133494462,\n",
              " 10.298935994257638,\n",
              " 12.195269501134888,\n",
              " 9.680093969966709,\n",
              " 10.35523173816502,\n",
              " 7.601402334583733,\n",
              " 10.087307985453819,\n",
              " 9.750977193313803,\n",
              " 10.103608096692797,\n",
              " 12.276861902550044,\n",
              " 10.200661930171254,\n",
              " 10.925956465688445,\n",
              " 10.751841997398456,\n",
              " 10.141953119948122,\n",
              " 9.901034546375062,\n",
              " 9.947313032076158,\n",
              " 10.762170357789895,\n",
              " 10.465414952351203,\n",
              " 9.692766521220475,\n",
              " 9.952325334619427,\n",
              " 11.61549107852535,\n",
              " 9.970959267651141,\n",
              " 10.455531892118072,\n",
              " 11.118340947958275,\n",
              " 10.392067567354799,\n",
              " 10.280210191778638,\n",
              " 7.601402334583733,\n",
              " 10.5610334618531,\n",
              " 10.111151917001878,\n",
              " 7.727094484779842,\n",
              " 10.080629049288541,\n",
              " 11.255462171102444,\n",
              " 10.10524402196869,\n",
              " 10.074958790275668,\n",
              " 7.601402334583733,\n",
              " 10.162229881090202,\n",
              " 10.59653472809574,\n",
              " 9.904786708267748,\n",
              " 7.809135398120538,\n",
              " 10.630697938371775,\n",
              " 7.601402334583733,\n",
              " 9.951372545256701,\n",
              " 7.98139158158007,\n",
              " 9.866616077760224,\n",
              " 7.633853559681768,\n",
              " 10.233726114401822,\n",
              " 9.624170396415975,\n",
              " 10.19432713480299,\n",
              " 7.8551570058813445,\n",
              " 10.803567598362301,\n",
              " 11.232827890691539,\n",
              " 10.287252233664953,\n",
              " 10.15389601499835,\n",
              " 10.422013452928306,\n",
              " 10.900546882407832,\n",
              " 10.50454685609326,\n",
              " 10.092081066090932,\n",
              " 9.990628087851128,\n",
              " 10.353639178266699,\n",
              " 10.388872283820167,\n",
              " 7.769378609513984,\n",
              " 7.601402334583733,\n",
              " 10.064585472878456,\n",
              " 7.601402334583733,\n",
              " 9.942419762537915,\n",
              " 10.08355657427679,\n",
              " 10.488520429241627,\n",
              " 10.260322483676225,\n",
              " 10.031264922477954,\n",
              " 11.170801286172727,\n",
              " 10.472940510749742,\n",
              " 10.203073491990732,\n",
              " 7.601402334583733,\n",
              " 10.404141620980623,\n",
              " 9.92554254331696,\n",
              " 10.782408656940278,\n",
              " 10.383781801264941,\n",
              " 10.077272778307796,\n",
              " 9.454540665816003,\n",
              " 10.41918130769898,\n",
              " 10.633352316031235,\n",
              " 10.453947265542192,\n",
              " 10.071160676324263,\n",
              " 10.818997980052007,\n",
              " 10.396536096199437,\n",
              " 7.841885928984623,\n",
              " 10.370392636243981,\n",
              " 10.49116310015384,\n",
              " 9.391911647379434,\n",
              " 12.569503218732468,\n",
              " 10.601398368945096,\n",
              " 11.342149006315793,\n",
              " 7.601402334583733,\n",
              " 9.504575923397805,\n",
              " 10.964674848113502,\n",
              " 10.695370855832223,\n",
              " 10.696389566233066,\n",
              " 10.482373613207029,\n",
              " 10.167427498042908,\n",
              " 9.833655042937448,\n",
              " 10.722518204786326,\n",
              " 9.956838728033123,\n",
              " 11.27150337434748,\n",
              " 10.621839409681249,\n",
              " 10.691853999677008,\n",
              " 10.069467984116963,\n",
              " 10.232287575708806,\n",
              " 10.000886458523262,\n",
              " 10.72680736639838,\n",
              " 10.37928685437844,\n",
              " 7.601402334583733,\n",
              " 10.342580841624276,\n",
              " 7.601402334583733,\n",
              " 10.467123818934358,\n",
              " 10.593906013524816,\n",
              " 10.157780872842554,\n",
              " 10.781993340047524,\n",
              " 9.680093969966709,\n",
              " 11.10271411123683,\n",
              " 10.141756141595407,\n",
              " 10.537972247530657,\n",
              " 10.57658507529037,\n",
              " 10.66676695527645,\n",
              " 10.177172115344055,\n",
              " 9.955415645396487,\n",
              " 10.16184379560608,\n",
              " 12.526204967027263,\n",
              " 10.81458482169893,\n",
              " 10.32551474894327,\n",
              " 10.893047333337728,\n",
              " 10.561421977340329,\n",
              " 10.996266191844887,\n",
              " 7.601402334583733,\n",
              " 10.740756721857226,\n",
              " 10.06475570013225,\n",
              " 11.288543647320601,\n",
              " 10.75685978366411,\n",
              " 11.080695348341909,\n",
              " 11.685583816353226,\n",
              " 10.442784008277814,\n",
              " 10.353320361711043,\n",
              " 10.226874549608686,\n",
              " 10.376486690761663,\n",
              " 11.01206667357142,\n",
              " 10.641870970494749,\n",
              " 7.601402334583733,\n",
              " 10.63226728572478,\n",
              " 10.448308723560077,\n",
              " 10.839502477258012,\n",
              " 10.529987323148188,\n",
              " 10.247467251790306,\n",
              " 10.203258756085228,\n",
              " 11.798074331563653,\n",
              " 10.453658881643552,\n",
              " 10.176220948190334,\n",
              " 10.073272520325904,\n",
              " 10.967353104874404,\n",
              " 7.601402334583733,\n",
              " 8.036249942132116,\n",
              " 10.38579023736888,\n",
              " 10.463131911491967,\n",
              " 10.57082962691412,\n",
              " 7.601402334583733,\n",
              " 10.771029119400374,\n",
              " 10.868587496017359,\n",
              " 10.717878440381437,\n",
              " 7.601402334583733,\n",
              " 10.920636680720666,\n",
              " 10.663147865904188,\n",
              " 10.221977646629885,\n",
              " 9.998615897627705,\n",
              " 9.889439336810069,\n",
              " 10.917830156883532,\n",
              " 10.32025521214842,\n",
              " 10.781058245898533,\n",
              " 10.247821660640062,\n",
              " 10.711101163782413,\n",
              " 10.562327926902078,\n",
              " 10.114558522616068,\n",
              " 7.601402334583733,\n",
              " 7.601402334583733,\n",
              " 10.196007901628159,\n",
              " 9.828278974938373,\n",
              " 10.117428893085538,\n",
              " 10.203999469426009,\n",
              " 7.90100705199242,\n",
              " 10.621229779951454,\n",
              " 10.685126264117057,\n",
              " 10.917830156883532,\n",
              " 10.659633006160352,\n",
              " 7.601402334583733,\n",
              " 10.350446429473651,\n",
              " 10.52891783292566,\n",
              " 9.560715513766388,\n",
              " 10.3424196734772,\n",
              " 10.025528178445153,\n",
              " 9.734536214680345,\n",
              " 10.908722791698938,\n",
              " 10.221941283654663,\n",
              " 10.104426393862145,\n",
              " 10.345798761764955,\n",
              " 10.085809109330082,\n",
              " 10.5610334618531,\n",
              " 10.135432259803407,\n",
              " 10.13344781717726,\n",
              " 7.601402334583733,\n",
              " 9.670924779305427,\n",
              " 10.439278922319867,\n",
              " 10.750663976978856,\n",
              " 10.585219830280774,\n",
              " 10.134638955251866,\n",
              " 10.517889100523476,\n",
              " 10.21284549666577,\n",
              " 10.806713308080846,\n",
              " 11.39640288460621,\n",
              " 10.547602039518763,\n",
              " 10.239638308916676,\n",
              " 10.207694828570066,\n",
              " 10.903953977980663,\n",
              " 10.601149526063207,\n",
              " 9.733944008101389,\n",
              " 9.845381631129095,\n",
              " 11.232827890691539,\n",
              " 12.843181079306648,\n",
              " 11.073660524150764,\n",
              " 10.871440510734077,\n",
              " 10.392098241730961,\n",
              " 10.93133754807084,\n",
              " 10.891186902297498,\n",
              " 7.601402334583733,\n",
              " 10.165120780630861,\n",
              " 10.050872539449186,\n",
              " 10.35951902421498,\n",
              " 11.455306945297822,\n",
              " 10.514638034291343,\n",
              " 10.803669227477098,\n",
              " 10.081675578048475,\n",
              " 9.650915190531107,\n",
              " 10.064372648053766,\n",
              " 10.764286715905591,\n",
              " 9.986725151106183,\n",
              " 9.913239843978806,\n",
              " 10.33822015832486,\n",
              " 10.817796321618971,\n",
              " 10.313641650130425,\n",
              " 11.06328900951666,\n",
              " 9.648337205086833,\n",
              " 10.5815464756746,\n",
              " 10.432084329787237,\n",
              " 14.349527179656565,\n",
              " 10.41394310783523,\n",
              " 10.30948585180595,\n",
              " 8.176391596633795,\n",
              " 10.094149233605084,\n",
              " 9.79762691183662,\n",
              " 10.122060675335577,\n",
              " 10.400863128577715,\n",
              " 9.946834357039494,\n",
              " 10.521938126192444,\n",
              " 9.516427036104067,\n",
              " 9.781941194456632,\n",
              " 7.601402334583733,\n",
              " 10.405807102008175,\n",
              " 10.406563222842058,\n",
              " 10.822793733370741,\n",
              " 7.601402334583733,\n",
              " 10.954414066971678,\n",
              " 10.228140212351999,\n",
              " 10.405807102008175,\n",
              " 11.251248963939235,\n",
              " 10.376611309118108,\n",
              " 11.092717208787851,\n",
              " 9.953752818683679,\n",
              " 10.11662117122102,\n",
              " 10.257519005529442,\n",
              " 10.376486690761663,\n",
              " 10.188704088048116,\n",
              " 8.172729104865471,\n",
              " 10.754620905152855,\n",
              " 10.809748150372926,\n",
              " 7.601402334583733,\n",
              " 7.601402334583733,\n",
              " 7.6838639802564295,\n",
              " 10.079162066608289,\n",
              " 14.139585551053191,\n",
              " 10.727794565794095,\n",
              " 7.601402334583733,\n",
              " 7.601402334583733,\n",
              " 10.575181243876902,\n",
              " 9.918376165029878,\n",
              " 9.961567763612653,\n",
              " 10.679389145388422,\n",
              " 10.458263073829322,\n",
              " 10.692989821338836,\n",
              " 9.829087229959878,\n",
              " 9.774574052442789,\n",
              " 9.824768967824722,\n",
              " 7.601402334583733,\n",
              " 10.057752511547557,\n",
              " 10.562198555774946,\n",
              " 11.918363906056165,\n",
              " 7.844240718141811,\n",
              " 10.10401732897875,\n",
              " 7.601402334583733,\n",
              " 10.345638111452145,\n",
              " 11.06109175833445,\n",
              " 11.403121759615027,\n",
              " 11.603688960617083,\n",
              " 10.759412379123841,\n",
              " 10.430166840225287,\n",
              " 7.601402334583733,\n",
              " 10.510559281627845,\n",
              " 10.378976112012433,\n",
              " 8.454892165218858,\n",
              " 10.904137815028022,\n",
              " 10.859018228147887,\n",
              " 7.6708948313621175,\n",
              " 7.601402334583733,\n",
              " 9.989481745702989,\n",
              " 10.29200993991398,\n",
              " 10.304308560150634,\n",
              " 10.771029119400374,\n",
              " 10.136423006312807,\n",
              " 9.872822138225242,\n",
              " 10.010097287594386,\n",
              " 8.837971491357209,\n",
              " 10.042858113983936,\n",
              " 10.012386799492118,\n",
              " 9.205327830152639,\n",
              " 11.06516853267122,\n",
              " 7.601402334583733,\n",
              " 10.736201004154935,\n",
              " 10.468829770273567,\n",
              " 10.231027154561334,\n",
              " 10.366623905926678,\n",
              " 7.601402334583733,\n",
              " 10.639478682087963,\n",
              " 7.601402334583733,\n",
              " 10.264687244346277,\n",
              " 10.33822015832486,\n",
              " 10.357933282865915,\n",
              " 10.600153534845193,\n",
              " 10.331887631926788,\n",
              " 10.302968122297036,\n",
              " 10.36567949988784,\n",
              " 9.937695723865865,\n",
              " 8.130059039992796,\n",
              " 10.638640027241104,\n",
              " 10.404293143019792,\n",
              " 11.08523008522044,\n",
              " 10.712771970725116,\n",
              " 10.793660156255225,\n",
              " 10.803669227477098,\n",
              " 10.314304978070902,\n",
              " 10.298093917309416,\n",
              " 10.62888408731157,\n",
              " 7.8399193600125825,\n",
              " 10.513144422597048,\n",
              " 10.680079340050709,\n",
              " 11.460326054826837,\n",
              " 10.681687944129537,\n",
              " 10.278355986666824,\n",
              " 11.33852445764401,\n",
              " 10.404141620980623,\n",
              " 10.633472802314019,\n",
              " 10.35204407807524,\n",
              " 10.706855916545168,\n",
              " 11.405629744677892,\n",
              " 10.326334058475068,\n",
              " 7.601402334583733,\n",
              " 9.851983709669012,\n",
              " 10.757498543639837,\n",
              " 9.683464128558162,\n",
              " 10.491718563146513,\n",
              " 7.601402334583733,\n",
              " 10.197685848215706,\n",
              " 8.038189179973203,\n",
              " 10.564266488063344,\n",
              " 11.556951919719207,\n",
              " 7.627057417018934,\n",
              " 10.358409269356885,\n",
              " 10.045030516645731,\n",
              " 10.422608673326225,\n",
              " 10.603386885918606,\n",
              " 10.361734846083262,\n",
              " 10.309319260105164,\n",
              " 11.143830858171714,\n",
              " 7.601402334583733,\n",
              " 9.946355452763305,\n",
              " 10.646638446331167,\n",
              " 10.296913817032536,\n",
              " 10.915106645867503,\n",
              " 9.840600999480937,\n",
              " 10.441471040344437,\n",
              " 10.060491301345794,\n",
              " 10.123265446374036,\n",
              " 10.262070674744162,\n",
              " 11.034260433845368,\n",
              " 10.452793230619966,\n",
              " 10.659633006160352,\n",
              " 7.633853559681768,\n",
              " 10.539429259325294,\n",
              " 10.515993929932415,\n",
              " 12.111816909604453,\n",
              " 10.33449044443213,\n",
              " 10.316953898529778,\n",
              " 10.80559822083645,\n",
              " 9.956838728033123,\n",
              " 10.733152287697589,\n",
              " 10.357774570341576,\n",
              " 10.021092794610391,\n",
              " 10.69083065598303,\n",
              " 9.893487720457795,\n",
              " 9.71414138080521,\n",
              " 10.177172115344055,\n",
              " 10.803669227477098,\n",
              " 9.685704607464015,\n",
              " 10.315961375454851,\n",
              " 10.472091398021472,\n",
              " 11.274046255019954,\n",
              " 10.126271039034782,\n",
              " 10.318770969581632,\n",
              " 10.793454842740767,\n",
              " 9.648595302907339,\n",
              " 10.183805073124855,\n",
              " 9.918179101279117,\n",
              " 7.601402334583733,\n",
              " 7.601402334583733,\n",
              " 9.653807502217354,\n",
              " 10.545762402722318,\n",
              " 10.065861471520387,\n",
              " 10.783238773619335,\n",
              " 7.601402334583733,\n",
              " 12.906545428225892,\n",
              " 7.601402334583733,\n",
              " 11.595435894542709,\n",
              " 7.601402334583733,\n",
              " 10.085642428772983,\n",
              " 10.209905507043057,\n",
              " 10.663615581822071,\n",
              " 10.26049744037489,\n",
              " 9.615138591096644,\n",
              " 10.010142230404668,\n",
              " 12.527656019657604,\n",
              " 7.601402334583733,\n",
              " 10.030164255362632,\n",
              " 10.007442080255977,\n",
              " 10.301122081529105,\n",
              " 9.86635665419792,\n",
              " 11.092108111907391,\n",
              " 9.67035679468885,\n",
              " 9.72859830755947,\n",
              " 9.981651573505482,\n",
              " 10.871820298437319,\n",
              " 10.029282848580436,\n",
              " 11.015361515187424,\n",
              " 10.625246485085315,\n",
              " 12.349744326212377,\n",
              " 7.761744984658913,\n",
              " 10.308485885054848,\n",
              " 10.36819593668493,\n",
              " 10.169690593310785,\n",
              " 10.864770770329113,\n",
              " 10.40095434309913,\n",
              " 10.467408346336265,\n",
              " 10.212111309194738,\n",
              " 12.382967001677175,\n",
              " 10.22904327741599,\n",
              " 10.894904309600681,\n",
              " 11.007352687485685,\n",
              " 7.601402334583733,\n",
              " 7.601402334583733,\n",
              " 10.145492111491256,\n",
              " 10.075337809462788,\n",
              " 9.991086257015196,\n",
              " 10.328624560441757,\n",
              " 10.299440900271696,\n",
              " 7.601402334583733,\n",
              " 10.173514689749188,\n",
              " 9.786728991925932,\n",
              " 9.84934810643548,\n",
              " 10.30881931842128,\n",
              " 9.992001966066868,\n",
              " 9.932852161166032,\n",
              " 7.601402334583733,\n",
              " 10.845173089430226,\n",
              " 10.130463749870515,\n",
              " 10.012386799492118,\n",
              " 11.094390314766315,\n",
              " 10.346441105055284,\n",
              " 10.643064971973882,\n",
              " 10.029943976488687,\n",
              " 10.473788903097228,\n",
              " 10.439278922319867,\n",
              " 9.93090814811212,\n",
              " 10.064585472878456,\n",
              " 9.902537101000133,\n",
              " 10.593906013524816,\n",
              " 9.546169544733285,\n",
              " 7.823645930834952,\n",
              " 10.474212829509952,\n",
              " 10.262943625547717,\n",
              " 10.441471040344437,\n",
              " 11.34244551873887,\n",
              " 9.913487387114461,\n",
              " 10.49601297178542,\n",
              " 8.053251153549096,\n",
              " 7.601402334583733,\n",
              " 11.884461434815309,\n",
              " 10.014626341770095,\n",
              " 10.518700218288165,\n",
              " 7.96693349840484,\n",
              " 10.607723030081495,\n",
              " 10.50495794452417,\n",
              " 10.275085591132715,\n",
              " 8.10892415597534,\n",
              " 10.641870970494749,\n",
              " 10.148627401722234,\n",
              " 8.073091199693154,\n",
              " 10.32551474894327,\n",
              " 11.416700867213212,\n",
              " 11.017004873924424,\n",
              " 10.259622350622351,\n",
              " 9.680344001221918,\n",
              " 9.943717371755195,\n",
              " 10.650199196425806,\n",
              " 9.95208722237219,\n",
              " 11.131679686740132,\n",
              " 11.92219001272427,\n",
              " 10.058823244245096,\n",
              " 11.065090289695444,\n",
              " 10.328624560441757,\n",
              " 10.533455287996134,\n",
              " 12.368650573287518,\n",
              " 10.054103420843255,\n",
              " 10.164350690877352,\n",
              " 7.601402334583733,\n",
              " 9.863238310628443,\n",
              " 11.918330571278322,\n",
              " 10.484053768176494,\n",
              " 10.357774570341576,\n",
              " 10.164543268920198,\n",
              " 9.94515718770752,\n",
              " 9.918425424900335,\n",
              " 10.29977736270884,\n",
              " 7.701200180857446,\n",
              " 10.693103332582247,\n",
              " 10.178312322985352,\n",
              " 10.131658445564364,\n",
              " 10.681228606945007,\n",
              " 10.712103982902187,\n",
              " 10.451059677269122,\n",
              " 9.896261507444388,\n",
              " 10.192456296870509,\n",
              " 10.891261386032147,\n",
              " 10.280072961093643,\n",
              " 11.468461429596811,\n",
              " 9.839002363309719,\n",
              " 10.239959789157341,\n",
              " 10.28024449650755,\n",
              " 10.536114793300285,\n",
              " 10.138401559449253,\n",
              " 10.172025031140222,\n",
              " 10.376642461280849,\n",
              " 10.549831343981374,\n",
              " 10.745722618580869,\n",
              " 10.682491276855757,\n",
              " 10.573903321093981,\n",
              " 10.106142641423002,\n",
              " 10.8127738102574,\n",
              " 10.487405632994516,\n",
              " 10.549307248688857,\n",
              " 10.122462426978117,\n",
              " 10.13582867620438,\n",
              " 10.359994256691806,\n",
              " 9.606159103032542,\n",
              " 11.19163145407322,\n",
              " 10.300113711977088,\n",
              " 7.601402334583733,\n",
              " 10.000659634288388,\n",
              " 10.908265238866482,\n",
              " 10.069256195989015,\n",
              " 9.84882015119382,\n",
              " 9.916699884008263,\n",
              " 10.50783084142058,\n",
              " 10.216142686053809,\n",
              " 10.181346536039147,\n",
              " 10.144903148637786,\n",
              " 10.114599007626499,\n",
              " 9.570529135214711,\n",
              " 10.190206661487347,\n",
              " 7.601402334583733,\n",
              " 10.1360268254907,\n",
              " 10.803872454726505,\n",
              " 10.25769445336048,\n",
              " 11.070474744010092,\n",
              " 10.129068131883756,\n",
              " 10.501114531238661,\n",
              " 7.601402334583733,\n",
              " 10.606609816118151,\n",
              " 10.763229096719098,\n",
              " 9.980263391338177,\n",
              " 10.205479252168017,\n",
              " 7.933079771880415,\n",
              " 9.706925073451831,\n",
              " 12.121064714846538,\n",
              " 10.510559281627845,\n",
              " 11.708089206777478,\n",
              " 12.421188057397055,\n",
              " 11.16479958768697,\n",
              " 10.092701965587253,\n",
              " 10.567489095490265,\n",
              " 8.063692634269517,\n",
              " 10.72306912649225,\n",
              " 10.576967596620598,\n",
              " 7.601402334583733,\n",
              " 10.306650011581617,\n",
              " 12.35363452394233,\n",
              " 9.903037451255743,\n",
              " 7.601402334583733,\n",
              " 10.455963627557306,\n",
              " 10.679849328089071,\n",
              " 10.088555334998109,\n",
              " 10.641870970494749,\n",
              " 9.686574550972555,\n",
              " 10.251005700689444,\n",
              " 9.850139517034204,\n",
              " 10.691853999677008,\n",
              " 10.829154192888762,\n",
              " 9.769441741907062,\n",
              " 11.318199288017514,\n",
              " 10.532256199159868,\n",
              " 10.030164255362632,\n",
              " 10.145884560772224,\n",
              " 10.596659732783579,\n",
              " 10.081884752437926,\n",
              " 11.25416768929685,\n",
              " 10.22904327741599,\n",
              " 11.097425172408931,\n",
              " 10.255059498298957,\n",
              " 10.300113711977088,\n",
              " 9.98506753952855,\n",
              " 10.203814342520987,\n",
              " 10.675700040192325,\n",
              " 9.757652204312583,\n",
              " 7.601402334583733,\n",
              " 7.640603826393634,\n",
              " 9.994287576862567,\n",
              " 10.27163147557801,\n",
              " 10.124669180536797,\n",
              " 10.142504453006628,\n",
              " 10.353798548436128,\n",
              " 11.055656405795794,\n",
              " 7.602401335665818,\n",
              " 10.665717600533268,\n",
              " 11.279744203985432,\n",
              " 9.223848722000975,\n",
              " 10.57773220059301,\n",
              " 10.095388084110406,\n",
              " 10.436788698817288,\n",
              " 10.284694120497512,\n",
              " 10.55022423527341,\n",
              " 10.173362006337944,\n",
              " 10.102993934084184,\n",
              " 10.417836960475736,\n",
              " 10.122060675335577,\n",
              " 10.668978650219241,\n",
              " 7.601402334583733,\n",
              " 10.747229096720554,\n",
              " 10.815187764075905,\n",
              " 12.276069679344003,\n",
              " 9.615205300012315,\n",
              " 10.123064751970729,\n",
              " 10.675931008412125,\n",
              " 10.35602706803022,\n",
              " 10.255762832130173,\n",
              " 10.777204756851221,\n",
              " 9.686636660844938,\n",
              " 7.7266536648476425,\n",
              " 10.683752354441571,\n",
              " 10.19241884438834,\n",
              " 10.637680702532075,\n",
              " 10.429428364110965,\n",
              " 10.38579023736888,\n",
              " 10.099917450331915,\n",
              " 11.026808713825016,\n",
              " 11.344518647594766,\n",
              " 10.59728452193757,\n",
              " 10.967094232005422,\n",
              " 7.601402334583733,\n",
              " 10.587619215169118,\n",
              " 10.442784008277814,\n",
              " 10.932588978440108,\n",
              " 10.480129006333248,\n",
              " 10.629610022590025,\n",
              " 9.96861964747391,\n",
              " 10.195447959847472,\n",
              " 10.612778714919378,\n",
              " 9.94467747936099,\n",
              " 10.138599199626192,\n",
              " 10.48040985787697,\n",
              " 10.403990075979044,\n",
              " 11.131606478690143,\n",
              " 7.950502434808851,\n",
              " 10.49684202174171,\n",
              " 7.742835955430749,\n",
              " 10.19432713480299,\n",
              " 12.517611615606175,\n",
              " 10.134638955251866,\n",
              " 9.82800941136017,\n",
              " 10.426320795426395,\n",
              " 10.004056607457823,\n",
              " 10.207325906555994,\n",
              " 10.07285050816569,\n",
              " 10.585093387249515,\n",
              " 10.239102278743212,\n",
              " 10.560644795362919,\n",
              " 10.763863802448526,\n",
              " 9.546812608597396,\n",
              " 7.826842098158293,\n",
              " 7.633369649679584,\n",
              " 10.299945551484317,\n",
              " 10.025749432069084,\n",
              " 10.197126845462035,\n",
              " 10.666184116368278,\n",
              " 7.601402334583733,\n",
              " 7.621684998724611,\n",
              " 10.187763831853076,\n",
              " 7.796057974316123,\n",
              " 10.093942609226804,\n",
              " 10.542600844603587,\n",
              " 10.738372982159593,\n",
              " 12.897971547314246,\n",
              " 12.57922803776778,\n",
              " 10.085642428772983,\n",
              " 7.601402334583733,\n",
              " 10.642945635959324,\n",
              " 12.429220196836383,\n",
              " 10.63106031411106,\n",
              " 10.927843140042187,\n",
              " 7.601402334583733,\n",
              " 10.406412044405862,\n",
              " 10.57262376313457,\n",
              " 10.002246324559392,\n",
              " 10.305647203635566,\n",
              " 10.358567881186488,\n",
              " 10.82617776399085,\n",
              " 10.413342705547674,\n",
              " 10.4954598897216,\n",
              " 9.966274540634894,\n",
              " 11.183045451818261,\n",
              " 9.786728991925932,\n",
              " 10.885584751364705,\n",
              " 10.458263073829322,\n",
              " 10.438254287073526,\n",
              " 10.278527816830314,\n",
              " 10.709985739582528,\n",
              " 10.422311107413181,\n",
              " 10.029943976488687,\n",
              " 9.863238310628443,\n",
              " 10.012386799492118,\n",
              " 10.444095254586585,\n",
              " 9.735423867488873,\n",
              " 7.601402334583733,\n",
              " 10.326661594425065,\n",
              " 7.9676267393338165,\n",
              " 11.081311434367002,\n",
              " 11.210549294438875,\n",
              " 10.16569795901424,\n",
              " 10.277324385186116,\n",
              " 10.117630721653038,\n",
              " 12.34148164933907,\n",
              " 7.956476798036782,\n",
              " 11.252871529635922,\n",
              " 7.601402334583733,\n",
              " 10.298767635585927,\n",
              " 10.720421929870149,\n",
              " 10.820797764563748,\n",
              " 10.837637848711049,\n",
              " 9.961803629358965,\n",
              " 7.857867559331803,\n",
              " 10.16569795901424,\n",
              " 9.830701782810475,\n",
              " 9.766865674993165,\n",
              " 10.776891660007811,\n",
              " 10.361734846083262,\n",
              " 11.39471608844349,\n",
              " 10.517347989609593,\n",
              " 10.024199627698392,\n",
              " 11.007932796396682,\n",
              " 11.060384472475045,\n",
              " 7.601402334583733,\n",
              " 7.601402334583733,\n",
              " 10.232107612780684,\n",
              " 11.39640288460621,\n",
              " 11.049555782360533,\n",
              " 10.599156550639583,\n",
              " 8.118505067587098,\n",
              " 10.394243113248184,\n",
              " 10.20861653859163,\n",
              " 10.802143705198473,\n",
              " 10.361418600547594,\n",
              " 12.33984275965845,\n",
              " 7.601402334583733,\n",
              " 10.456251347665171,\n",
              " 10.610808804651954,\n",
              " 7.601402334583733,\n",
              " 10.310484819622369,\n",
              " 9.900533192709691,\n",
              " 9.980494888896912,\n",
              " 11.184435286790631,\n",
              " 10.30229722897745,\n",
              " 10.166082559611265,\n",
              " 7.601402334583733,\n",
              " 10.149996006155071,\n",
              " 7.774015077250727,\n",
              " 10.34290310001384,\n",
              " 10.819798284210286,\n",
              " 10.133050455652521,\n",
              " 7.601402334583733,\n",
              " 10.520590271772301,\n",
              " 10.366938509842946,\n",
              " 7.731492029245684,\n",
              " 10.871440510734077,\n",
              " 10.433703954094051,\n",
              " 7.954372272531867,\n",
              " 7.601402334583733,\n",
              " 10.519240598188375,\n",
              " 7.601402334583733,\n",
              " 10.209169157096309,\n",
              " 11.32895454873049,\n",
              " 10.881832472145556,\n",
              " 10.130463749870515,\n",
              " 10.280210191778638,\n",
              " 11.225190057762841,\n",
              " 10.305647203635566,\n",
              " 10.617686579792686,\n",
              " 9.535318229171661,\n",
              " 10.482793916672314,\n",
              " 11.153403615295403,\n",
              " 10.518429918794682,\n",
              " 7.601402334583733,\n",
              " 10.938467575959383,\n",
              " 9.807582195649056,\n",
              " 10.149409690739677,\n",
              " 7.652070746116482,\n",
              " 11.06798121031775,\n",
              " 10.991561170646536,\n",
              " 10.991645383300378,\n",
              " 10.35523173816502,\n",
              " 10.128469413123979,\n",
              " 12.59473402514672,\n",
              " 11.375340152017603,\n",
              " 9.838202085837498,\n",
              " 10.134638955251866,\n",
              " 10.49213495800589,\n",
              " 10.270766079259051,\n",
              " 9.982806921740384,\n",
              " 11.153188695567094,\n",
              " 10.429871515217972,\n",
              " 9.851983709669012,\n",
              " 10.517077324312647,\n",
              " 9.916206324943902,\n",
              " 9.694061978050115,\n",
              " 10.579005242826247,\n",
              " 10.016191042449213,\n",
              " 9.95208722237219,\n",
              " 10.346922591895922,\n",
              " 10.00654040759221,\n",
              " 10.407318772389159,\n",
              " 7.65728279297819,\n",
              " 10.620131509007471,\n",
              " 9.558600006313569,\n",
              " 10.159911129085136,\n",
              " 10.077440859659566,\n",
              " 10.144903148637786,\n",
              " 10.16203685698089,\n",
              " 10.429871515217972,\n",
              " 10.648539090746434,\n",
              " 10.15467419487498,\n",
              " 10.056036950996413,\n",
              " 10.406109618951431,\n",
              " 10.39516093745751,\n",
              " 10.139586815010555,\n",
              " 10.562715939892447,\n",
              " 10.160104563907877,\n",
              " 10.565943539941884,\n",
              " 8.017307507688582,\n",
              " 10.146433731146518,\n",
              " 7.736743682453495,\n",
              " 11.072806798362185,\n",
              " 10.043249494911286,\n",
              " 10.433998149618517,\n",
              " 10.027517700952979,\n",
              " 10.005863619152995,\n",
              " 11.326788639285114,\n",
              " 10.351405324899678,\n",
              " 7.601402334583733,\n",
              " 10.161457561002383,\n",
              " 9.955415645396487,\n",
              " 10.945547126244623,\n",
              " 10.263815814972762,\n",
              " 9.970959267651141,\n",
              " 10.634917506521377,\n",
              " 10.46555746948913,\n",
              " 9.57080811415361,\n",
              " 10.720421929870149,\n",
              " 10.096831472611818,\n",
              " 10.637080656910605,\n",
              " 12.065666245536807,\n",
              " 10.732061203925053,\n",
              " 10.492689881579409,\n",
              " 10.304643389056194,\n",
              " 7.943427767876373,\n",
              " 10.4376683094997,\n",
              " 10.057538227363054,\n",
              " 10.554666248273572,\n",
              " 10.537441898283253,\n",
              " 10.222159441674654,\n",
              " 10.425134414933702,\n",
              " 11.119008420561059,\n",
              " 12.161603382806213,\n",
              " 10.41379304105523,\n",
              " 9.985804595025341,\n",
              " 8.644882552557126,\n",
              " 9.760252084449375,\n",
              " 7.601402334583733,\n",
              " 10.881268413919793,\n",
              " 10.507694223799426,\n",
              " 10.317945437479338,\n",
              " 9.673508190212637,\n",
              " ...]"
            ]
          },
          "metadata": {},
          "execution_count": 104
        }
      ]
    },
    {
      "cell_type": "code",
      "source": [
        "from sklearn.linear_model import Ridge\n",
        "model = Ridge(solver='sag', random_state=42, alpha=0)\n",
        "model.fit(X_train, y_train)"
      ],
      "metadata": {
        "colab": {
          "base_uri": "https://localhost:8080/",
          "height": 130
        },
        "id": "O2UnYiFWfS1l",
        "outputId": "8d296a7d-7450-4655-bd82-f5192986bbb9"
      },
      "execution_count": 105,
      "outputs": [
        {
          "output_type": "stream",
          "name": "stderr",
          "text": [
            "/usr/local/lib/python3.10/dist-packages/sklearn/linear_model/_sag.py:350: ConvergenceWarning: The max_iter was reached which means the coef_ did not converge\n",
            "  warnings.warn(\n"
          ]
        },
        {
          "output_type": "execute_result",
          "data": {
            "text/plain": [
              "Ridge(alpha=0, random_state=42, solver='sag')"
            ],
            "text/html": [
              "<style>#sk-container-id-5 {color: black;background-color: white;}#sk-container-id-5 pre{padding: 0;}#sk-container-id-5 div.sk-toggleable {background-color: white;}#sk-container-id-5 label.sk-toggleable__label {cursor: pointer;display: block;width: 100%;margin-bottom: 0;padding: 0.3em;box-sizing: border-box;text-align: center;}#sk-container-id-5 label.sk-toggleable__label-arrow:before {content: \"▸\";float: left;margin-right: 0.25em;color: #696969;}#sk-container-id-5 label.sk-toggleable__label-arrow:hover:before {color: black;}#sk-container-id-5 div.sk-estimator:hover label.sk-toggleable__label-arrow:before {color: black;}#sk-container-id-5 div.sk-toggleable__content {max-height: 0;max-width: 0;overflow: hidden;text-align: left;background-color: #f0f8ff;}#sk-container-id-5 div.sk-toggleable__content pre {margin: 0.2em;color: black;border-radius: 0.25em;background-color: #f0f8ff;}#sk-container-id-5 input.sk-toggleable__control:checked~div.sk-toggleable__content {max-height: 200px;max-width: 100%;overflow: auto;}#sk-container-id-5 input.sk-toggleable__control:checked~label.sk-toggleable__label-arrow:before {content: \"▾\";}#sk-container-id-5 div.sk-estimator input.sk-toggleable__control:checked~label.sk-toggleable__label {background-color: #d4ebff;}#sk-container-id-5 div.sk-label input.sk-toggleable__control:checked~label.sk-toggleable__label {background-color: #d4ebff;}#sk-container-id-5 input.sk-hidden--visually {border: 0;clip: rect(1px 1px 1px 1px);clip: rect(1px, 1px, 1px, 1px);height: 1px;margin: -1px;overflow: hidden;padding: 0;position: absolute;width: 1px;}#sk-container-id-5 div.sk-estimator {font-family: monospace;background-color: #f0f8ff;border: 1px dotted black;border-radius: 0.25em;box-sizing: border-box;margin-bottom: 0.5em;}#sk-container-id-5 div.sk-estimator:hover {background-color: #d4ebff;}#sk-container-id-5 div.sk-parallel-item::after {content: \"\";width: 100%;border-bottom: 1px solid gray;flex-grow: 1;}#sk-container-id-5 div.sk-label:hover label.sk-toggleable__label {background-color: #d4ebff;}#sk-container-id-5 div.sk-serial::before {content: \"\";position: absolute;border-left: 1px solid gray;box-sizing: border-box;top: 0;bottom: 0;left: 50%;z-index: 0;}#sk-container-id-5 div.sk-serial {display: flex;flex-direction: column;align-items: center;background-color: white;padding-right: 0.2em;padding-left: 0.2em;position: relative;}#sk-container-id-5 div.sk-item {position: relative;z-index: 1;}#sk-container-id-5 div.sk-parallel {display: flex;align-items: stretch;justify-content: center;background-color: white;position: relative;}#sk-container-id-5 div.sk-item::before, #sk-container-id-5 div.sk-parallel-item::before {content: \"\";position: absolute;border-left: 1px solid gray;box-sizing: border-box;top: 0;bottom: 0;left: 50%;z-index: -1;}#sk-container-id-5 div.sk-parallel-item {display: flex;flex-direction: column;z-index: 1;position: relative;background-color: white;}#sk-container-id-5 div.sk-parallel-item:first-child::after {align-self: flex-end;width: 50%;}#sk-container-id-5 div.sk-parallel-item:last-child::after {align-self: flex-start;width: 50%;}#sk-container-id-5 div.sk-parallel-item:only-child::after {width: 0;}#sk-container-id-5 div.sk-dashed-wrapped {border: 1px dashed gray;margin: 0 0.4em 0.5em 0.4em;box-sizing: border-box;padding-bottom: 0.4em;background-color: white;}#sk-container-id-5 div.sk-label label {font-family: monospace;font-weight: bold;display: inline-block;line-height: 1.2em;}#sk-container-id-5 div.sk-label-container {text-align: center;}#sk-container-id-5 div.sk-container {/* jupyter's `normalize.less` sets `[hidden] { display: none; }` but bootstrap.min.css set `[hidden] { display: none !important; }` so we also need the `!important` here to be able to override the default hidden behavior on the sphinx rendered scikit-learn.org. See: https://github.com/scikit-learn/scikit-learn/issues/21755 */display: inline-block !important;position: relative;}#sk-container-id-5 div.sk-text-repr-fallback {display: none;}</style><div id=\"sk-container-id-5\" class=\"sk-top-container\"><div class=\"sk-text-repr-fallback\"><pre>Ridge(alpha=0, random_state=42, solver=&#x27;sag&#x27;)</pre><b>In a Jupyter environment, please rerun this cell to show the HTML representation or trust the notebook. <br />On GitHub, the HTML representation is unable to render, please try loading this page with nbviewer.org.</b></div><div class=\"sk-container\" hidden><div class=\"sk-item\"><div class=\"sk-estimator sk-toggleable\"><input class=\"sk-toggleable__control sk-hidden--visually\" id=\"sk-estimator-id-5\" type=\"checkbox\" checked><label for=\"sk-estimator-id-5\" class=\"sk-toggleable__label sk-toggleable__label-arrow\">Ridge</label><div class=\"sk-toggleable__content\"><pre>Ridge(alpha=0, random_state=42, solver=&#x27;sag&#x27;)</pre></div></div></div></div></div>"
            ]
          },
          "metadata": {},
          "execution_count": 105
        }
      ]
    },
    {
      "cell_type": "code",
      "source": [
        "from sklearn.linear_model import Ridge\n",
        "model = Ridge(solver='sag', random_state=42, alpha=0.01)\n",
        "model.fit(X_train, y_train)"
      ],
      "metadata": {
        "colab": {
          "base_uri": "https://localhost:8080/",
          "height": 130
        },
        "id": "T_kkc2Q9gTuY",
        "outputId": "4df2a8f1-13e2-448a-d08a-a8d27dd8fae6"
      },
      "execution_count": 101,
      "outputs": [
        {
          "output_type": "stream",
          "name": "stderr",
          "text": [
            "/usr/local/lib/python3.10/dist-packages/sklearn/linear_model/_sag.py:350: ConvergenceWarning: The max_iter was reached which means the coef_ did not converge\n",
            "  warnings.warn(\n"
          ]
        },
        {
          "output_type": "execute_result",
          "data": {
            "text/plain": [
              "Ridge(alpha=0.01, random_state=42, solver='sag')"
            ],
            "text/html": [
              "<style>#sk-container-id-4 {color: black;background-color: white;}#sk-container-id-4 pre{padding: 0;}#sk-container-id-4 div.sk-toggleable {background-color: white;}#sk-container-id-4 label.sk-toggleable__label {cursor: pointer;display: block;width: 100%;margin-bottom: 0;padding: 0.3em;box-sizing: border-box;text-align: center;}#sk-container-id-4 label.sk-toggleable__label-arrow:before {content: \"▸\";float: left;margin-right: 0.25em;color: #696969;}#sk-container-id-4 label.sk-toggleable__label-arrow:hover:before {color: black;}#sk-container-id-4 div.sk-estimator:hover label.sk-toggleable__label-arrow:before {color: black;}#sk-container-id-4 div.sk-toggleable__content {max-height: 0;max-width: 0;overflow: hidden;text-align: left;background-color: #f0f8ff;}#sk-container-id-4 div.sk-toggleable__content pre {margin: 0.2em;color: black;border-radius: 0.25em;background-color: #f0f8ff;}#sk-container-id-4 input.sk-toggleable__control:checked~div.sk-toggleable__content {max-height: 200px;max-width: 100%;overflow: auto;}#sk-container-id-4 input.sk-toggleable__control:checked~label.sk-toggleable__label-arrow:before {content: \"▾\";}#sk-container-id-4 div.sk-estimator input.sk-toggleable__control:checked~label.sk-toggleable__label {background-color: #d4ebff;}#sk-container-id-4 div.sk-label input.sk-toggleable__control:checked~label.sk-toggleable__label {background-color: #d4ebff;}#sk-container-id-4 input.sk-hidden--visually {border: 0;clip: rect(1px 1px 1px 1px);clip: rect(1px, 1px, 1px, 1px);height: 1px;margin: -1px;overflow: hidden;padding: 0;position: absolute;width: 1px;}#sk-container-id-4 div.sk-estimator {font-family: monospace;background-color: #f0f8ff;border: 1px dotted black;border-radius: 0.25em;box-sizing: border-box;margin-bottom: 0.5em;}#sk-container-id-4 div.sk-estimator:hover {background-color: #d4ebff;}#sk-container-id-4 div.sk-parallel-item::after {content: \"\";width: 100%;border-bottom: 1px solid gray;flex-grow: 1;}#sk-container-id-4 div.sk-label:hover label.sk-toggleable__label {background-color: #d4ebff;}#sk-container-id-4 div.sk-serial::before {content: \"\";position: absolute;border-left: 1px solid gray;box-sizing: border-box;top: 0;bottom: 0;left: 50%;z-index: 0;}#sk-container-id-4 div.sk-serial {display: flex;flex-direction: column;align-items: center;background-color: white;padding-right: 0.2em;padding-left: 0.2em;position: relative;}#sk-container-id-4 div.sk-item {position: relative;z-index: 1;}#sk-container-id-4 div.sk-parallel {display: flex;align-items: stretch;justify-content: center;background-color: white;position: relative;}#sk-container-id-4 div.sk-item::before, #sk-container-id-4 div.sk-parallel-item::before {content: \"\";position: absolute;border-left: 1px solid gray;box-sizing: border-box;top: 0;bottom: 0;left: 50%;z-index: -1;}#sk-container-id-4 div.sk-parallel-item {display: flex;flex-direction: column;z-index: 1;position: relative;background-color: white;}#sk-container-id-4 div.sk-parallel-item:first-child::after {align-self: flex-end;width: 50%;}#sk-container-id-4 div.sk-parallel-item:last-child::after {align-self: flex-start;width: 50%;}#sk-container-id-4 div.sk-parallel-item:only-child::after {width: 0;}#sk-container-id-4 div.sk-dashed-wrapped {border: 1px dashed gray;margin: 0 0.4em 0.5em 0.4em;box-sizing: border-box;padding-bottom: 0.4em;background-color: white;}#sk-container-id-4 div.sk-label label {font-family: monospace;font-weight: bold;display: inline-block;line-height: 1.2em;}#sk-container-id-4 div.sk-label-container {text-align: center;}#sk-container-id-4 div.sk-container {/* jupyter's `normalize.less` sets `[hidden] { display: none; }` but bootstrap.min.css set `[hidden] { display: none !important; }` so we also need the `!important` here to be able to override the default hidden behavior on the sphinx rendered scikit-learn.org. See: https://github.com/scikit-learn/scikit-learn/issues/21755 */display: inline-block !important;position: relative;}#sk-container-id-4 div.sk-text-repr-fallback {display: none;}</style><div id=\"sk-container-id-4\" class=\"sk-top-container\"><div class=\"sk-text-repr-fallback\"><pre>Ridge(alpha=0.01, random_state=42, solver=&#x27;sag&#x27;)</pre><b>In a Jupyter environment, please rerun this cell to show the HTML representation or trust the notebook. <br />On GitHub, the HTML representation is unable to render, please try loading this page with nbviewer.org.</b></div><div class=\"sk-container\" hidden><div class=\"sk-item\"><div class=\"sk-estimator sk-toggleable\"><input class=\"sk-toggleable__control sk-hidden--visually\" id=\"sk-estimator-id-4\" type=\"checkbox\" checked><label for=\"sk-estimator-id-4\" class=\"sk-toggleable__label sk-toggleable__label-arrow\">Ridge</label><div class=\"sk-toggleable__content\"><pre>Ridge(alpha=0.01, random_state=42, solver=&#x27;sag&#x27;)</pre></div></div></div></div></div>"
            ]
          },
          "metadata": {},
          "execution_count": 101
        }
      ]
    },
    {
      "cell_type": "code",
      "source": [
        "dicts_test = df_test[categorical + numerical].to_dict(orient='records')\n",
        "X_test = dv.transform(dicts_test)\n"
      ],
      "metadata": {
        "id": "3kg6C3_gffPE"
      },
      "execution_count": null,
      "outputs": []
    },
    {
      "cell_type": "code",
      "source": [],
      "metadata": {
        "id": "4cSdqkEPgDUH"
      },
      "execution_count": null,
      "outputs": []
    },
    {
      "cell_type": "code",
      "source": [
        "y_pred = model.predict(X_test)[:, 1]\n",
        "from sklearn.metrics import mean_squared_error\n",
        "mean_squared_error(y_test, y_pred)"
      ],
      "metadata": {
        "id": "nmkaT-PAgAOQ"
      },
      "execution_count": null,
      "outputs": []
    }
  ]
}